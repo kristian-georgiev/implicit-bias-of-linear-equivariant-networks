{
 "cells": [
  {
   "cell_type": "code",
   "execution_count": 2,
   "id": "30149514-2e25-4b6b-be41-eb81d00489da",
   "metadata": {},
   "outputs": [
    {
     "data": {
      "text/plain": [
       "'1.10.2'"
      ]
     },
     "execution_count": 2,
     "metadata": {},
     "output_type": "execute_result"
    }
   ],
   "source": [
    "%load_ext autoreload\n",
    "%autoreload 2\n",
    "\n",
    "import torch\n",
    "import numpy as np\n",
    "import pickle\n",
    "from torch.utils.data import TensorDataset, DataLoader\n",
    "import matplotlib\n",
    "from matplotlib import pyplot as plt\n",
    "import seaborn as sns\n",
    "\n",
    "# local imports\n",
    "import dihedral_opt_program\n",
    "from src.nn_training import Group, plot_schatten_norm_sums_and_loss, net_schatten_norm\n",
    "from src.nn_training import g_net, conv_net, fc_net, relu_g_net, relu_conv_net, relu_fc_net\n",
    "torch.__version__"
   ]
  },
  {
   "cell_type": "code",
   "execution_count": 3,
   "id": "396426d1-b966-41c8-a73b-c70cf0ef91ed",
   "metadata": {},
   "outputs": [],
   "source": [
    "def get_training_dataframes(experiment_name, force_train):\n",
    "    if not force_train:\n",
    "        try:\n",
    "            with open(f'data/training/{experiment_name}.pickle', 'rb') as f:\n",
    "                dfs = pickle.load(f)\n",
    "        except:\n",
    "            print('Will train before plotting.')\n",
    "            dfs = {}  # if training has not been done yet\n",
    "    else:\n",
    "            print('Will train before plotting.')\n",
    "            dfs = {}\n",
    "    return dfs\n",
    "\n",
    "def postprocess_fn(x):\n",
    "    return x"
   ]
  },
  {
   "cell_type": "code",
   "execution_count": 4,
   "id": "d9d56d1b-7419-40a0-b0f0-13d4ea1d36ea",
   "metadata": {
    "tags": []
   },
   "outputs": [
    {
     "name": "stdout",
     "output_type": "stream",
     "text": [
      "Will train before plotting.\n"
     ]
    },
    {
     "data": {
      "application/vnd.jupyter.widget-view+json": {
       "model_id": "148dd46139dc43bb87077c76cccb9fbc",
       "version_major": 2,
       "version_minor": 0
      },
      "text/plain": [
       "  0%|          | 0/3 [00:00<?, ?it/s]"
      ]
     },
     "metadata": {},
     "output_type": "display_data"
    },
    {
     "data": {
      "application/vnd.jupyter.widget-view+json": {
       "model_id": "c5e809b2e5b44d84affca77467eb4bcc",
       "version_major": 2,
       "version_minor": 0
      },
      "text/plain": [
       "  0%|          | 0/10000 [00:00<?, ?it/s]"
      ]
     },
     "metadata": {},
     "output_type": "display_data"
    },
    {
     "name": "stdout",
     "output_type": "stream",
     "text": [
      "preds: tensor([[  8.2776],\n",
      "        [ 18.7512],\n",
      "        [  9.1242],\n",
      "        [ 10.9443],\n",
      "        [  8.3939],\n",
      "        [ 12.8541],\n",
      "        [  7.6463],\n",
      "        [  7.3837],\n",
      "        [  7.5603],\n",
      "        [  9.9528],\n",
      "        [ -8.0236],\n",
      "        [ -9.1929],\n",
      "        [ -7.6044],\n",
      "        [ -9.4861],\n",
      "        [ -8.4868],\n",
      "        [ -9.0231],\n",
      "        [ -8.0025],\n",
      "        [ -7.8057],\n",
      "        [ -8.1305],\n",
      "        [-11.0503]], grad_fn=<MmBackward0>)\n"
     ]
    },
    {
     "data": {
      "application/vnd.jupyter.widget-view+json": {
       "model_id": "3bf7a531382e479fb61a966f6ccfdcdd",
       "version_major": 2,
       "version_minor": 0
      },
      "text/plain": [
       "  0%|          | 0/10000 [00:00<?, ?it/s]"
      ]
     },
     "metadata": {},
     "output_type": "display_data"
    },
    {
     "name": "stdout",
     "output_type": "stream",
     "text": [
      "preds: tensor([[  7.5255],\n",
      "        [  7.8578],\n",
      "        [ 10.8963],\n",
      "        [  7.9075],\n",
      "        [  7.9387],\n",
      "        [  8.5296],\n",
      "        [ 13.4018],\n",
      "        [  8.5999],\n",
      "        [ 14.4486],\n",
      "        [  8.0358],\n",
      "        [-17.2152],\n",
      "        [-12.1547],\n",
      "        [ -7.2983],\n",
      "        [ -7.4519],\n",
      "        [-11.4885],\n",
      "        [ -7.6890],\n",
      "        [-13.9212],\n",
      "        [ -7.7493],\n",
      "        [-12.7648],\n",
      "        [ -9.4465]], grad_fn=<MmBackward0>)\n"
     ]
    },
    {
     "data": {
      "application/vnd.jupyter.widget-view+json": {
       "model_id": "a8780708ace847cabf0403bdb308d323",
       "version_major": 2,
       "version_minor": 0
      },
      "text/plain": [
       "  0%|          | 0/10000 [00:00<?, ?it/s]"
      ]
     },
     "metadata": {},
     "output_type": "display_data"
    },
    {
     "name": "stdout",
     "output_type": "stream",
     "text": [
      "preds: tensor([[  8.1145],\n",
      "        [  7.8859],\n",
      "        [  8.1065],\n",
      "        [  8.8250],\n",
      "        [  9.0893],\n",
      "        [  8.8897],\n",
      "        [  9.4536],\n",
      "        [  7.1749],\n",
      "        [ 11.1215],\n",
      "        [ 10.8126],\n",
      "        [ -9.0154],\n",
      "        [ -9.6110],\n",
      "        [ -7.4371],\n",
      "        [ -8.6349],\n",
      "        [ -8.4338],\n",
      "        [ -7.6534],\n",
      "        [ -8.5895],\n",
      "        [ -7.7247],\n",
      "        [-12.7649],\n",
      "        [ -8.0713]], grad_fn=<MmBackward0>)\n",
      "<class 'src.nn_training.relu_conv_net'> did not converge 0 times to get 3 successes.\n"
     ]
    },
    {
     "data": {
      "application/vnd.jupyter.widget-view+json": {
       "model_id": "59748bf6fb5a475a8b08c10958921266",
       "version_major": 2,
       "version_minor": 0
      },
      "text/plain": [
       "  0%|          | 0/3 [00:00<?, ?it/s]"
      ]
     },
     "metadata": {},
     "output_type": "display_data"
    },
    {
     "data": {
      "application/vnd.jupyter.widget-view+json": {
       "model_id": "b9c363a9bf8b4e00b5c67f75aaed56a6",
       "version_major": 2,
       "version_minor": 0
      },
      "text/plain": [
       "  0%|          | 0/10000 [00:00<?, ?it/s]"
      ]
     },
     "metadata": {},
     "output_type": "display_data"
    },
    {
     "name": "stdout",
     "output_type": "stream",
     "text": [
      "preds: tensor([[  8.8925],\n",
      "        [ 10.0378],\n",
      "        [  8.2984],\n",
      "        [  8.4121],\n",
      "        [  8.5081],\n",
      "        [  8.5212],\n",
      "        [  8.4492],\n",
      "        [  8.3227],\n",
      "        [  7.7078],\n",
      "        [  8.9142],\n",
      "        [ -8.3305],\n",
      "        [-10.9461],\n",
      "        [ -8.2004],\n",
      "        [ -9.2961],\n",
      "        [-10.1526],\n",
      "        [ -8.0125],\n",
      "        [-10.4808],\n",
      "        [ -7.5972],\n",
      "        [ -7.9018],\n",
      "        [-12.3379]], grad_fn=<MmBackward0>)\n"
     ]
    },
    {
     "data": {
      "application/vnd.jupyter.widget-view+json": {
       "model_id": "c2bb7fd0c1184a0c8f5fc155bf016cd0",
       "version_major": 2,
       "version_minor": 0
      },
      "text/plain": [
       "  0%|          | 0/10000 [00:00<?, ?it/s]"
      ]
     },
     "metadata": {},
     "output_type": "display_data"
    },
    {
     "name": "stdout",
     "output_type": "stream",
     "text": [
      "preds: tensor([[  8.3066],\n",
      "        [  8.5198],\n",
      "        [  8.5129],\n",
      "        [  7.7494],\n",
      "        [ 10.7319],\n",
      "        [  8.0189],\n",
      "        [  7.4743],\n",
      "        [  7.4040],\n",
      "        [ 12.5048],\n",
      "        [ 10.0481],\n",
      "        [-15.7773],\n",
      "        [ -8.4268],\n",
      "        [ -7.6474],\n",
      "        [ -8.2352],\n",
      "        [-12.2451],\n",
      "        [ -7.7692],\n",
      "        [-11.9197],\n",
      "        [ -7.7063],\n",
      "        [ -7.7973],\n",
      "        [-11.4544]], grad_fn=<MmBackward0>)\n"
     ]
    },
    {
     "data": {
      "application/vnd.jupyter.widget-view+json": {
       "model_id": "a054025420f04f22895ce133912af827",
       "version_major": 2,
       "version_minor": 0
      },
      "text/plain": [
       "  0%|          | 0/10000 [00:00<?, ?it/s]"
      ]
     },
     "metadata": {},
     "output_type": "display_data"
    },
    {
     "name": "stdout",
     "output_type": "stream",
     "text": [
      "preds: tensor([[ 12.1785],\n",
      "        [  8.0251],\n",
      "        [  8.0249],\n",
      "        [  8.0374],\n",
      "        [  7.6426],\n",
      "        [  8.2821],\n",
      "        [ 11.0739],\n",
      "        [  8.3101],\n",
      "        [  7.9336],\n",
      "        [  8.6998],\n",
      "        [-11.4481],\n",
      "        [-10.0124],\n",
      "        [ -8.2295],\n",
      "        [ -8.3161],\n",
      "        [ -9.3582],\n",
      "        [ -7.3713],\n",
      "        [ -9.2531],\n",
      "        [ -7.2813],\n",
      "        [ -8.7689],\n",
      "        [ -7.8988]], grad_fn=<MmBackward0>)\n",
      "<class 'src.nn_training.relu_g_net'> did not converge 0 times to get 3 successes.\n"
     ]
    },
    {
     "data": {
      "application/vnd.jupyter.widget-view+json": {
       "model_id": "1ad806f4a8774afbaf24376d627692ad",
       "version_major": 2,
       "version_minor": 0
      },
      "text/plain": [
       "  0%|          | 0/3 [00:00<?, ?it/s]"
      ]
     },
     "metadata": {},
     "output_type": "display_data"
    },
    {
     "data": {
      "application/vnd.jupyter.widget-view+json": {
       "model_id": "b81eed62d2884b1fa14d4f7caed61cd3",
       "version_major": 2,
       "version_minor": 0
      },
      "text/plain": [
       "  0%|          | 0/10000 [00:00<?, ?it/s]"
      ]
     },
     "metadata": {},
     "output_type": "display_data"
    },
    {
     "name": "stdout",
     "output_type": "stream",
     "text": [
      "preds: tensor([[ 7.7661],\n",
      "        [ 8.0578],\n",
      "        [ 8.5821],\n",
      "        [ 7.9090],\n",
      "        [ 7.2283],\n",
      "        [ 7.0771],\n",
      "        [ 7.3268],\n",
      "        [ 7.7592],\n",
      "        [ 6.7557],\n",
      "        [ 7.6307],\n",
      "        [-7.3747],\n",
      "        [-7.7876],\n",
      "        [-7.0026],\n",
      "        [-8.0936],\n",
      "        [-8.0816],\n",
      "        [-7.3046],\n",
      "        [-7.3358],\n",
      "        [-7.3489],\n",
      "        [-6.9055],\n",
      "        [-8.3480]], grad_fn=<MmBackward0>)\n"
     ]
    },
    {
     "data": {
      "application/vnd.jupyter.widget-view+json": {
       "model_id": "f1d9489e09b24efc9388cb5dc7e6fefb",
       "version_major": 2,
       "version_minor": 0
      },
      "text/plain": [
       "  0%|          | 0/10000 [00:00<?, ?it/s]"
      ]
     },
     "metadata": {},
     "output_type": "display_data"
    },
    {
     "name": "stdout",
     "output_type": "stream",
     "text": [
      "preds: tensor([[ 8.2601],\n",
      "        [ 8.0258],\n",
      "        [ 8.0279],\n",
      "        [ 7.9191],\n",
      "        [ 7.2197],\n",
      "        [ 7.8972],\n",
      "        [ 7.5312],\n",
      "        [ 7.6875],\n",
      "        [ 6.8186],\n",
      "        [ 7.5045],\n",
      "        [-7.8901],\n",
      "        [-8.8678],\n",
      "        [-7.2660],\n",
      "        [-7.8622],\n",
      "        [-7.5550],\n",
      "        [-6.5191],\n",
      "        [-7.1949],\n",
      "        [-7.1623],\n",
      "        [-7.0348],\n",
      "        [-8.7180]], grad_fn=<MmBackward0>)\n"
     ]
    },
    {
     "data": {
      "application/vnd.jupyter.widget-view+json": {
       "model_id": "d506fc47d4e4490e80c91c2b530218af",
       "version_major": 2,
       "version_minor": 0
      },
      "text/plain": [
       "  0%|          | 0/10000 [00:00<?, ?it/s]"
      ]
     },
     "metadata": {},
     "output_type": "display_data"
    },
    {
     "name": "stdout",
     "output_type": "stream",
     "text": [
      "preds: tensor([[ 7.6139],\n",
      "        [ 7.8178],\n",
      "        [ 8.5940],\n",
      "        [ 7.4624],\n",
      "        [ 7.2552],\n",
      "        [ 8.0406],\n",
      "        [ 6.8540],\n",
      "        [ 7.5123],\n",
      "        [ 7.1558],\n",
      "        [ 8.0864],\n",
      "        [-7.6378],\n",
      "        [-7.7045],\n",
      "        [-7.1483],\n",
      "        [-7.5969],\n",
      "        [-7.6034],\n",
      "        [-7.6515],\n",
      "        [-6.9671],\n",
      "        [-7.3221],\n",
      "        [-7.1225],\n",
      "        [-8.2472]], grad_fn=<MmBackward0>)\n",
      "<class 'src.nn_training.relu_fc_net'> did not converge 0 times to get 3 successes.\n"
     ]
    },
    {
     "data": {
      "image/png": "[encoded data removed]",
      "text/plain": [
       "<Figure size 349.272x215.914 with 1 Axes>"
      ]
     },
     "metadata": {},
     "output_type": "display_data"
    },
    {
     "data": {
      "image/png": "[encoded data removed]",
      "text/plain": [
       "<Figure size 349.272x215.914 with 1 Axes>"
      ]
     },
     "metadata": {},
     "output_type": "display_data"
    },
    {
     "data": {
      "image/png": "[encoded data removed]",
      "text/plain": [
       "<Figure size 349.272x215.914 with 1 Axes>"
      ]
     },
     "metadata": {},
     "output_type": "display_data"
    },
    {
     "name": "stdout",
     "output_type": "stream",
     "text": [
      "CPU times: user 51min 48s, sys: 1h 59min 29s, total: 2h 51min 17s\n",
      "Wall time: 18min 51s\n"
     ]
    }
   ],
   "source": [
    "%%time\n",
    "experiment_name = \"relu_d60_gaussian_10_sep\"\n",
    "group = Group('D60')\n",
    "k = 10\n",
    "ins_m = torch.randn([k, 60])\n",
    "ins_p = torch.randn([k, 60])\n",
    "ins = torch.cat([ins_m, ins_p])\n",
    "outs_p = torch.Tensor([[-1]] * k)\n",
    "outs_m = torch.Tensor([[1]] * k)\n",
    "outs = torch.cat([outs_m, outs_p])\n",
    "dataset = TensorDataset(ins, outs)\n",
    "dataloader = DataLoader(dataset, batch_size=ins.size(0))\n",
    "N = 3 # average over trajectories\n",
    "force_train = True\n",
    "\n",
    "nets = {\"ReLU CNN\": relu_conv_net, \"ReLU G-CNN\": relu_g_net, \"ReLU FC\": relu_fc_net}\n",
    "dfs = get_training_dataframes(experiment_name, force_train)\n",
    "\n",
    "dfs, net = plot_schatten_norm_sums_and_loss(nets, group, dataloader, postprocess_fn,\n",
    "                                       N, epochs=10000, cuda=False, dfs=dfs,\n",
    "                                       exp_name=experiment_name,\n",
    "                                       lr=5e-6)\n",
    "with open(f'data/training/{experiment_name}.pickle', 'wb') as f:\n",
    "    pickle.dump(dfs, f, protocol=pickle.HIGHEST_PROTOCOL)"
   ]
  },
  {
   "cell_type": "code",
   "execution_count": null,
   "id": "1d936e4c-8319-499a-b342-534e46335e88",
   "metadata": {},
   "outputs": [],
   "source": []
  }
 ],
 "metadata": {
  "kernelspec": {
   "display_name": "Python 3 (ipykernel)",
   "language": "python",
   "name": "python3"
  },
  "language_info": {
   "codemirror_mode": {
    "name": "ipython",
    "version": 3
   },
   "file_extension": ".py",
   "mimetype": "text/x-python",
   "name": "python",
   "nbconvert_exporter": "python",
   "pygments_lexer": "ipython3",
   "version": "3.9.10"
  }
 },
 "nbformat": 4,
 "nbformat_minor": 5
}
