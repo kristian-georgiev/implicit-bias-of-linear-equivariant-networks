{
 "cells": [
  {
   "cell_type": "code",
   "execution_count": 1,
   "id": "c98385ef-94bf-424e-a767-c918c303a225",
   "metadata": {},
   "outputs": [
    {
     "name": "stderr",
     "output_type": "stream",
     "text": [
      "/state/partition1/llgrid/pkg/anaconda/anaconda3-2021b/lib/python3.8/_collections_abc.py:832: MatplotlibDeprecationWarning: Support for setting the 'text.latex.preamble' or 'pgf.preamble' rcParam to a list of strings is deprecated since 3.3 and will be removed two minor releases later; set it to a single string instead.\n",
      "  self[key] = other[key]\n"
     ]
    }
   ],
   "source": [
    "import e2cnn\n",
    "from e2cnn import gspaces\n",
    "from e2cnn import nn as e2nn\n",
    "import torch\n",
    "import torch.multiprocessing\n",
    "from torch import nn\n",
    "import torch.optim as optim\n",
    "from torchvision import datasets, transforms\n",
    "import numpy as np\n",
    "import pandas as pd\n",
    "from matplotlib import pyplot as plt\n",
    "from src.nn_training import Group\n",
    "from tqdm.notebook import tqdm\n",
    "import seaborn as sns\n",
    "sns.set_style()"
   ]
  },
  {
   "cell_type": "code",
   "execution_count": 2,
   "id": "c49891b6-9d6c-4d30-9fa7-08af8de750ab",
   "metadata": {},
   "outputs": [],
   "source": [
    "transform_comp = transforms.Compose([transforms.ToTensor(),\n",
    "                                     transforms.Resize((28, 28)),\n",
    "                                     transforms.Normalize((0.1307,), (0.3081,))])\n",
    "mnist_data = datasets.MNIST('./data', transform=transform_comp)\n",
    "\n",
    "batch_size = 250\n",
    "data_loader = torch.utils.data.DataLoader(mnist_data,\n",
    "                                          batch_size=batch_size,\n",
    "                                          shuffle=False,\n",
    "                                          num_workers=20)"
   ]
  },
  {
   "cell_type": "code",
   "execution_count": 3,
   "id": "55f81741-b1e4-433d-bdb5-c358666a3fa7",
   "metadata": {},
   "outputs": [],
   "source": [
    "for i, batch in enumerate(data_loader):\n",
    "    x, y = batch\n",
    "    break\n",
    "x = x[0:1, ...]"
   ]
  },
  {
   "cell_type": "code",
   "execution_count": 30,
   "id": "4e0f28b7-b4e1-4be7-b748-b0f5be6c824b",
   "metadata": {},
   "outputs": [],
   "source": [
    "def get_schatten_norm_sum(fcoeffs, irrep_sizes, l):\n",
    "    \"\"\"\n",
    "    Given the Fourier coefficients of the linearization of our network,\n",
    "    this f-n computes the expression for which we want to reach a scaling\n",
    "    of its stationary point in our main theorems (Thm 4.2 and Thm 4.4).\n",
    "    \"\"\"\n",
    "    \n",
    "    # all we're doing here is getting the 2/l norm of the singular values\n",
    "    # of the block diagonal matrix that has each of the irreps of dim n\n",
    "    # repeated n times along its diagonal\n",
    "    \n",
    "    # our code could also be written more cleanly/concisely as\n",
    "    # block_diag_matrix_irrs = torch.block_diag(*[torch.block_diag(*([flat_irrep.reshape(size, size)] * size)) \n",
    "    #                                                              for size, flat_irrep in zip(irrep_sizes, fcoeffs)])\n",
    "    # sigmas = torch.linalg.svdvals(block_diag_matrix_irrs)\n",
    "    # return torch.linalg.vector_norm(sigmas, ord=(2./3.))\n",
    "    # but that'd be a bit slower because of the SVD on a larger (though sparse) matrix\n",
    "    \n",
    "    sum_of_schatten_norms = 0.\n",
    "    flat_irreps_list = torch.split(fcoeffs, [s ** 2 for s in irrep_sizes])\n",
    "\n",
    "    for flat_irrep, irrep_size in zip(flat_irreps_list, irrep_sizes):\n",
    "        irrep = flat_irrep.reshape(irrep_size, irrep_size)\n",
    "        try:\n",
    "            sigmas = torch.linalg.svdvals(irrep)\n",
    "        except:\n",
    "            return None\n",
    "        sum_of_schatten_norms += irrep_size * torch.linalg.vector_norm(sigmas, ord=(2. / l)) ** (2. / l)\n",
    "    return sum_of_schatten_norms ** (l / 2.)\n",
    "\n",
    "def eval_schatten_norm(net, inps):\n",
    "    group = Group('MNIST')\n",
    "    fourier_m = group.f_mat\n",
    "    net.eval()\n",
    "    sch_norms = []\n",
    "    for i in range(1):\n",
    "        interm, out = net(inps[i:i + 1])\n",
    "        out.backward()\n",
    "        if net.is_fc:\n",
    "            linearization = interm.grad[0].reshape(-1, 1) - 1.\n",
    "        else:\n",
    "            linearization = interm.grad[0].permute([1, 2, 0])\n",
    "            # re-order to match GAP order\n",
    "            linearization = linearization[:, :, [0, 2, 1, 3, 4, 6, 5, 7]].reshape(-1, 1) - 1.\n",
    "        linearization = linearization / torch.linalg.norm(linearization)\n",
    "        linearization = torch.complex(linearization, torch.zeros_like(linearization))\n",
    "        fspace_linearization = torch.conj(fourier_m).T @ linearization\n",
    "        sch_norm = get_schatten_norm_sum(fspace_linearization, group.irrep_sizes, 3)\n",
    "        sch_norms.append(sch_norm)\n",
    "    net.train()\n",
    "    return torch.stack(sch_norms).mean()\n",
    "\n",
    "def exp_loss(y_pred, y):\n",
    "    \"\"\"\n",
    "    Exponential loss for classification.\n",
    "    \"\"\"\n",
    "    return torch.mean(torch.exp(-y_pred * y))\n",
    "\n",
    "def postprocess(batch):\n",
    "    x, y = batch\n",
    "    # classify 0 vs 5, ignore other digits\n",
    "    x = x[(y == 0) + (y == 5)]\n",
    "    y = y[(y == 0) + (y == 5)]\n",
    "    y[y == 5] = -1\n",
    "    y[y == 0] = 1\n",
    "    y = y.reshape(-1, 1)\n",
    "    reduced_bs = len(y)\n",
    "    return x, y"
   ]
  },
  {
   "cell_type": "code",
   "execution_count": 31,
   "id": "69084464-333c-4794-b59b-59fddb552e2e",
   "metadata": {},
   "outputs": [],
   "source": [
    "class Gcnn(torch.nn.Module):\n",
    "    def __init__(self):\n",
    "        super(Gcnn, self).__init__()\n",
    "        self.r2_act = gspaces.FlipRot2dOnR2(N=4)\n",
    "\n",
    "        self.feat_type_in  = e2nn.FieldType(self.r2_act, [self.r2_act.trivial_repr])\n",
    "        self.feat_type_out = e2nn.FieldType(self.r2_act, [self.r2_act.regular_repr])\n",
    "        self.conv1 = e2nn.R2Conv(self.feat_type_in, self.feat_type_out,\n",
    "                                 kernel_size=25, padding=12,\n",
    "                                 padding_mode='circular', bias=False)\n",
    "        self.conv2 = e2nn.R2Conv(self.feat_type_out, self.feat_type_out,\n",
    "                                 kernel_size=15, padding=0,\n",
    "                                 padding_mode='circular', bias=False)\n",
    "        self.conv3 = e2nn.R2Conv(self.feat_type_out, self.feat_type_out,\n",
    "                                 kernel_size=13, padding=0,\n",
    "                                 padding_mode='circular', bias=False)\n",
    "        self.relu = e2nn.ELU(self.feat_type_out)\n",
    "        self.pooling = e2nn.GroupPooling(self.feat_type_out)\n",
    "        self.batchnorm = e2nn.InnerBatchNorm(self.feat_type_out)\n",
    "\n",
    "        self.nonlinear = True\n",
    "        self.is_g = True\n",
    "        self.is_fc = False\n",
    "        self.l = 3\n",
    "\n",
    "    def forward(self, x):\n",
    "        bs = x.size(0)\n",
    "        x = e2nn.GeometricTensor(x, self.feat_type_in)\n",
    "        interm = self.conv1(x)\n",
    "        interm.tensor.retain_grad()\n",
    "#         x = self.batchnorm(interm)\n",
    "#         x = self.relu(x)\n",
    "        x = self.relu(interm)\n",
    "        x = self.conv2(x)\n",
    "#         x = self.batchnorm(x)\n",
    "        x = self.relu(x)\n",
    "        x = self.conv3(x)\n",
    "#         x = self.batchnorm(x)\n",
    "#         x = self.pooling(x)\n",
    "\n",
    "        return interm.tensor, torch.mean(x.tensor.reshape(bs, -1), axis=1, keepdim=True)"
   ]
  },
  {
   "cell_type": "code",
   "execution_count": 32,
   "id": "623a3339-a87a-41f9-b657-60e9d4d11086",
   "metadata": {},
   "outputs": [],
   "source": [
    "class Cnn(torch.nn.Module):\n",
    "    def __init__(self):\n",
    "        super(Cnn, self).__init__()\n",
    "        self.r2_act = gspaces.TrivialOnR2()\n",
    "\n",
    "        self.feat_type_in  = e2nn.FieldType(self.r2_act, [self.r2_act.regular_repr])\n",
    "        self.feat_type_out = e2nn.FieldType(self.r2_act, 8 * [self.r2_act.regular_repr])\n",
    "        self.conv1 = e2nn.R2Conv(self.feat_type_in, self.feat_type_out,\n",
    "                                 kernel_size=25, padding=12, \n",
    "                                 padding_mode='circular', bias=False)\n",
    "        self.conv2 = e2nn.R2Conv(self.feat_type_out, self.feat_type_out,\n",
    "                                 kernel_size=15, bias=False)\n",
    "        self.conv3 = e2nn.R2Conv(self.feat_type_out, self.feat_type_out,\n",
    "                                 kernel_size=13, bias=False)\n",
    "        self.relu = e2nn.ELU(self.feat_type_out)\n",
    "        self.pooling = e2nn.GroupPooling(self.feat_type_out, )\n",
    "\n",
    "        self.nonlinear = True\n",
    "        self.is_g = False\n",
    "        self.is_fc = False\n",
    "        self.l = 3\n",
    "\n",
    "\n",
    "    def forward(self, x):\n",
    "        bs = x.size(0)\n",
    "        x = e2nn.GeometricTensor(x, self.feat_type_in)\n",
    "        interm = self.conv1(x)\n",
    "        interm.tensor.retain_grad()\n",
    "        x = self.relu(interm)\n",
    "        x = self.conv2(x)\n",
    "        x = self.relu(x)\n",
    "        x = self.conv3(x)\n",
    "\n",
    "        return interm.tensor, torch.mean(x.tensor.reshape(bs, -1), axis=1, keepdim=True)"
   ]
  },
  {
   "cell_type": "code",
   "execution_count": 37,
   "id": "f7d27e3a-375c-4810-ab67-9cc1189856ee",
   "metadata": {},
   "outputs": [],
   "source": [
    "class FCnet(torch.nn.Module):\n",
    "    def __init__(self):\n",
    "        super(FCnet, self).__init__()\n",
    "        self.lin1 = nn.Linear(784, 6272)\n",
    "        self.lin2 = nn.Linear(6272, 128)\n",
    "        self.lin3 = nn.Linear(128, 1)\n",
    "        self.relu = nn.ReLU()\n",
    "\n",
    "        self.nonlinear = True\n",
    "        self.is_g = False\n",
    "        self.is_fc = True\n",
    "        self.l = 3\n",
    "        \n",
    "    def forward(self, x):\n",
    "        bs = x.size(0)\n",
    "        interm = self.lin1(x.reshape(bs, -1))\n",
    "        interm.retain_grad()\n",
    "        x = self.relu(interm)\n",
    "        x = self.lin2(x)\n",
    "        x = self.relu(x)\n",
    "        x = self.lin3(x)\n",
    "        \n",
    "        return interm, torch.mean(x.reshape(bs, -1), axis=1, keepdim=True)"
   ]
  },
  {
   "cell_type": "markdown",
   "id": "7b036d5f-7e9c-4a3d-86d6-a069aab6cb27",
   "metadata": {},
   "source": [
    "# Training"
   ]
  },
  {
   "cell_type": "code",
   "execution_count": 34,
   "id": "c7c80a1e-ab91-4f44-b637-7ab09daec33b",
   "metadata": {},
   "outputs": [],
   "source": [
    "epochs = 300\n",
    "num_batches = 1\n",
    "init_lr= 1e-3\n",
    "N = 15"
   ]
  },
  {
   "cell_type": "code",
   "execution_count": 35,
   "id": "0740152b-caa4-405a-a161-25e9a30b109b",
   "metadata": {},
   "outputs": [],
   "source": [
    "dataset = [postprocess(batch) for batch in data_loader]"
   ]
  },
  {
   "cell_type": "markdown",
   "id": "27b9868f-b57f-4c65-9462-c5cd3be102df",
   "metadata": {},
   "source": [
    "## G-CNN"
   ]
  },
  {
   "cell_type": "code",
   "execution_count": 76,
   "id": "8288c441-6cfc-4d51-bde4-d8f326897a66",
   "metadata": {
    "tags": []
   },
   "outputs": [
    {
     "name": "stdout",
     "output_type": "stream",
     "text": [
      "CPU times: user 17h 28min 21s, sys: 58min 56s, total: 18h 27min 18s\n",
      "Wall time: 30min 18s\n"
     ]
    }
   ],
   "source": [
    "%%time\n",
    "results_gcnn = []\n",
    "for run_itr in range(N):\n",
    "    net = Gcnn().train()\n",
    "    optimizer = optim.SGD(net.parameters(), lr=init_lr)\n",
    "    loss = torch.Tensor([1.])\n",
    "    acc = torch.Tensor([0.])\n",
    "    for epoch in range(epochs):\n",
    "        net.train()\n",
    "#         itr = tqdm(enumerate(dataset[0:num_batches]))\n",
    "        itr = enumerate(dataset[0:num_batches])\n",
    "        if epoch == 150:\n",
    "            for g in optimizer.param_groups:\n",
    "                g['lr'] /= 5.\n",
    "        for i, batch in itr:\n",
    "            x, y = batch\n",
    "            if epoch % 5 == 0 and i == 0:\n",
    "                sch_norm = eval_schatten_norm(net, x)\n",
    "#                 print(f'Schatten norm at epoch {epoch} is {sch_norm:.1f}; acc: {acc.item()}')\n",
    "                results_gcnn.append([run_itr, epoch, sch_norm.item(), loss.item()])\n",
    "\n",
    "            optimizer.zero_grad()\n",
    "            interm, preds = net(x)\n",
    "#             loss = (torch.abs(torch.sigmoid(preds) - y)).mean()\n",
    "            loss = exp_loss(preds, y)\n",
    "            loss.backward()\n",
    "            optimizer.step()\n",
    "\n",
    "            acc = torch.sum(torch.sign(preds) == y) / len(y)\n",
    "#             itr.set_description(f'loss: {loss.item():.4f}, acc: {acc.item():.3f}')"
   ]
  },
  {
   "cell_type": "code",
   "execution_count": 77,
   "id": "619984d8-0d5b-4d01-9df5-1e9cc6f638ee",
   "metadata": {},
   "outputs": [],
   "source": [
    "dfs_gcnn = pd.DataFrame(results_gcnn, columns=['N', 'epoch', 'schatten norm', 'loss'])"
   ]
  },
  {
   "cell_type": "code",
   "execution_count": 95,
   "id": "219f0d1b-6763-49ed-bfa3-2da1d8dcb4e5",
   "metadata": {},
   "outputs": [],
   "source": [
    "dfs_gcnn.to_csv('gcnn_e2.csv', index=False)"
   ]
  },
  {
   "cell_type": "code",
   "execution_count": 9,
   "id": "d7009d4b-e1e3-4460-bbd5-82fc19b73b6f",
   "metadata": {},
   "outputs": [],
   "source": [
    "dfs_gcnn = pd.read_csv('gcnn_e2.csv')"
   ]
  },
  {
   "cell_type": "markdown",
   "id": "ec19fa08-2eec-48ca-81fd-a4db3865c6dc",
   "metadata": {},
   "source": [
    "## CNN"
   ]
  },
  {
   "cell_type": "code",
   "execution_count": 80,
   "id": "a4f8aa6e-a041-4e29-b3df-4ecbabaeaca7",
   "metadata": {
    "tags": []
   },
   "outputs": [
    {
     "name": "stdout",
     "output_type": "stream",
     "text": [
      "CPU times: user 16h 20min 17s, sys: 56min 15s, total: 17h 16min 33s\n",
      "Wall time: 27min 45s\n"
     ]
    }
   ],
   "source": [
    "%%time\n",
    "results_cnn = []\n",
    "for run_itr in range(N):\n",
    "    net = Cnn()\n",
    "    optimizer = optim.SGD(net.parameters(), lr=init_lr)\n",
    "    loss = torch.Tensor([1.])\n",
    "    acc = torch.Tensor([0.])    \n",
    "    for epoch in range(epochs):\n",
    "#         itr = tqdm(enumerate(dataset[0:num_batches]))\n",
    "        itr = enumerate(dataset[0:num_batches])\n",
    "        if epoch == 150:\n",
    "            for g in optimizer.param_groups:\n",
    "                g['lr'] /= 5.\n",
    "        for i, batch in itr:\n",
    "            x, y = batch\n",
    "            if epoch % 5 == 0 and i == 0:\n",
    "                sch_norm = eval_schatten_norm(net, x)\n",
    "#                 print(f'Schatten norm at epoch {epoch} is {sch_norm:.1f}; acc is {acc.item()}')\n",
    "                results_cnn.append([run_itr, epoch, sch_norm.item(), loss.item()])\n",
    "\n",
    "            optimizer.zero_grad()\n",
    "            interm, preds = net(x)\n",
    "            loss = exp_loss(preds, y)\n",
    "            loss.backward()\n",
    "            optimizer.step()\n",
    "            acc = torch.sum(torch.sign(preds - 1.) == y) / len(y)\n",
    "#             itr.set_description(f'loss: {loss.item():.4f}, acc: {acc.item():.3f}')"
   ]
  },
  {
   "cell_type": "code",
   "execution_count": 81,
   "id": "ead6574d-42f4-4fcd-8138-1fd3b36cb800",
   "metadata": {},
   "outputs": [],
   "source": [
    "dfs_cnn = pd.DataFrame(results_cnn, columns=['N', 'epoch', 'schatten norm', 'loss'])"
   ]
  },
  {
   "cell_type": "code",
   "execution_count": 94,
   "id": "b4b072b1-2232-4cd2-a52f-a966a30e2e72",
   "metadata": {},
   "outputs": [],
   "source": [
    "dfs_cnn.to_csv('cnn_e2.csv', index=False)"
   ]
  },
  {
   "cell_type": "code",
   "execution_count": 10,
   "id": "c7b1d279-03aa-4c52-a832-93baa8185992",
   "metadata": {},
   "outputs": [],
   "source": [
    "dfs_cnn = pd.read_csv('cnn_e2.csv')"
   ]
  },
  {
   "cell_type": "markdown",
   "id": "964bd9ff-cca1-4448-90bb-05b502867ef1",
   "metadata": {},
   "source": [
    "# FC net"
   ]
  },
  {
   "cell_type": "code",
   "execution_count": 44,
   "id": "25192430-97d3-47ad-a4e8-d0738c7d83d0",
   "metadata": {
    "tags": []
   },
   "outputs": [
    {
     "data": {
      "application/vnd.jupyter.widget-view+json": {
       "model_id": "18218d7a1ef5408096bf6c050ebf609c",
       "version_major": 2,
       "version_minor": 0
      },
      "text/plain": [
       "  0%|          | 0/15 [00:00<?, ?it/s]"
      ]
     },
     "metadata": {},
     "output_type": "display_data"
    },
    {
     "data": {
      "application/vnd.jupyter.widget-view+json": {
       "model_id": "940e07011db045df8aadef51cac81ae4",
       "version_major": 2,
       "version_minor": 0
      },
      "text/plain": [
       "  0%|          | 0/300 [00:00<?, ?it/s]"
      ]
     },
     "metadata": {},
     "output_type": "display_data"
    },
    {
     "data": {
      "application/vnd.jupyter.widget-view+json": {
       "model_id": "7f1073c4be714d0e8b63d18f6f958454",
       "version_major": 2,
       "version_minor": 0
      },
      "text/plain": [
       "  0%|          | 0/300 [00:00<?, ?it/s]"
      ]
     },
     "metadata": {},
     "output_type": "display_data"
    },
    {
     "data": {
      "application/vnd.jupyter.widget-view+json": {
       "model_id": "3ee922a4e6aa41cba09b18ad849e4d66",
       "version_major": 2,
       "version_minor": 0
      },
      "text/plain": [
       "  0%|          | 0/300 [00:00<?, ?it/s]"
      ]
     },
     "metadata": {},
     "output_type": "display_data"
    },
    {
     "data": {
      "application/vnd.jupyter.widget-view+json": {
       "model_id": "a9cf3d0594d04a03b656fb7675aaed79",
       "version_major": 2,
       "version_minor": 0
      },
      "text/plain": [
       "  0%|          | 0/300 [00:00<?, ?it/s]"
      ]
     },
     "metadata": {},
     "output_type": "display_data"
    },
    {
     "data": {
      "application/vnd.jupyter.widget-view+json": {
       "model_id": "13b088a0cd644132b30b9510e8920867",
       "version_major": 2,
       "version_minor": 0
      },
      "text/plain": [
       "  0%|          | 0/300 [00:00<?, ?it/s]"
      ]
     },
     "metadata": {},
     "output_type": "display_data"
    },
    {
     "data": {
      "application/vnd.jupyter.widget-view+json": {
       "model_id": "dcc838e1dfae405eab6db169c53f7c2a",
       "version_major": 2,
       "version_minor": 0
      },
      "text/plain": [
       "  0%|          | 0/300 [00:00<?, ?it/s]"
      ]
     },
     "metadata": {},
     "output_type": "display_data"
    },
    {
     "data": {
      "application/vnd.jupyter.widget-view+json": {
       "model_id": "c5f8ad5a26d943d9abce39fa8011a6aa",
       "version_major": 2,
       "version_minor": 0
      },
      "text/plain": [
       "  0%|          | 0/300 [00:00<?, ?it/s]"
      ]
     },
     "metadata": {},
     "output_type": "display_data"
    },
    {
     "data": {
      "application/vnd.jupyter.widget-view+json": {
       "model_id": "6e0667a087e6458490af40729ade7a12",
       "version_major": 2,
       "version_minor": 0
      },
      "text/plain": [
       "  0%|          | 0/300 [00:00<?, ?it/s]"
      ]
     },
     "metadata": {},
     "output_type": "display_data"
    },
    {
     "data": {
      "application/vnd.jupyter.widget-view+json": {
       "model_id": "6ffcb7416a4442e39621ed907fe795ec",
       "version_major": 2,
       "version_minor": 0
      },
      "text/plain": [
       "  0%|          | 0/300 [00:00<?, ?it/s]"
      ]
     },
     "metadata": {},
     "output_type": "display_data"
    },
    {
     "data": {
      "application/vnd.jupyter.widget-view+json": {
       "model_id": "da94bd0169484539bef1226f157104e5",
       "version_major": 2,
       "version_minor": 0
      },
      "text/plain": [
       "  0%|          | 0/300 [00:00<?, ?it/s]"
      ]
     },
     "metadata": {},
     "output_type": "display_data"
    },
    {
     "data": {
      "application/vnd.jupyter.widget-view+json": {
       "model_id": "825eb05ca6284ab7a8532b594726f91a",
       "version_major": 2,
       "version_minor": 0
      },
      "text/plain": [
       "  0%|          | 0/300 [00:00<?, ?it/s]"
      ]
     },
     "metadata": {},
     "output_type": "display_data"
    },
    {
     "data": {
      "application/vnd.jupyter.widget-view+json": {
       "model_id": "3edcb92ed7d149089398aa4b3dc403c1",
       "version_major": 2,
       "version_minor": 0
      },
      "text/plain": [
       "  0%|          | 0/300 [00:00<?, ?it/s]"
      ]
     },
     "metadata": {},
     "output_type": "display_data"
    },
    {
     "data": {
      "application/vnd.jupyter.widget-view+json": {
       "model_id": "7ee09d376947400990e8fc00da0c6bbe",
       "version_major": 2,
       "version_minor": 0
      },
      "text/plain": [
       "  0%|          | 0/300 [00:00<?, ?it/s]"
      ]
     },
     "metadata": {},
     "output_type": "display_data"
    },
    {
     "data": {
      "application/vnd.jupyter.widget-view+json": {
       "model_id": "893c90ea135e498c9f9b6a147578d15e",
       "version_major": 2,
       "version_minor": 0
      },
      "text/plain": [
       "  0%|          | 0/300 [00:00<?, ?it/s]"
      ]
     },
     "metadata": {},
     "output_type": "display_data"
    },
    {
     "data": {
      "application/vnd.jupyter.widget-view+json": {
       "model_id": "e04ae8b5287044c1b935850f4945dbfa",
       "version_major": 2,
       "version_minor": 0
      },
      "text/plain": [
       "  0%|          | 0/300 [00:00<?, ?it/s]"
      ]
     },
     "metadata": {},
     "output_type": "display_data"
    },
    {
     "name": "stdout",
     "output_type": "stream",
     "text": [
      "CPU times: user 5h 14min 16s, sys: 13min 28s, total: 5h 27min 44s\n",
      "Wall time: 6min 54s\n"
     ]
    }
   ],
   "source": [
    "%%time\n",
    "results_fcnet = []\n",
    "for run_itr in tqdm(range(N)):\n",
    "    net = FCnet()\n",
    "    optimizer = optim.SGD(net.parameters(), lr=init_lr)\n",
    "    loss = torch.Tensor([1.])\n",
    "    acc = torch.Tensor([0.])    \n",
    "    for epoch in tqdm(range(epochs)):\n",
    "#         itr = tqdm(enumerate(dataset[0:num_batches]))\n",
    "        itr = enumerate(dataset[0:num_batches])\n",
    "        if epoch == 150:\n",
    "            for g in optimizer.param_groups:\n",
    "                g['lr'] /= 5.\n",
    "        for i, batch in itr:\n",
    "            x, y = batch\n",
    "            if epoch % 5 == 0 and i == 0:\n",
    "                sch_norm = eval_schatten_norm(net, x)\n",
    "#                 print(f'Schatten norm at epoch {epoch} is {sch_norm:.1f}; acc is {acc.item()}')\n",
    "                results_fcnet.append([run_itr, epoch, sch_norm.item(), loss.item()])\n",
    "\n",
    "            optimizer.zero_grad()\n",
    "            interm, preds = net(x)\n",
    "            loss = exp_loss(preds, y)\n",
    "            loss.backward()\n",
    "            optimizer.step()\n",
    "            acc = torch.sum(torch.sign(preds - 1.) == y) / len(y)\n",
    "#             itr.set_description(f'loss: {loss.item():.4f}, acc: {acc.item():.3f}')"
   ]
  },
  {
   "cell_type": "code",
   "execution_count": 45,
   "id": "1bfb6f51-2084-4ba5-96fe-ebb36dd32d3e",
   "metadata": {},
   "outputs": [],
   "source": [
    "dfs_fcnet = pd.DataFrame(results_fcnet, columns=['N', 'epoch', 'schatten norm', 'loss'])"
   ]
  },
  {
   "cell_type": "code",
   "execution_count": 46,
   "id": "5bde7420-9921-4b29-9f65-c121295cc29b",
   "metadata": {},
   "outputs": [],
   "source": [
    "dfs_fcnet.to_csv('fcnet_e2.csv', index=False)"
   ]
  },
  {
   "cell_type": "code",
   "execution_count": 47,
   "id": "aaa1a735-d6bd-42d5-a72c-cf3b2be03f06",
   "metadata": {},
   "outputs": [],
   "source": [
    "dfs_fcnet = pd.read_csv('fcnet_e2.csv')"
   ]
  },
  {
   "cell_type": "code",
   "execution_count": null,
   "id": "6d37921f-cb54-4f71-9b20-a4952730460f",
   "metadata": {},
   "outputs": [],
   "source": []
  },
  {
   "cell_type": "markdown",
   "id": "162d4890-69a6-4024-b55b-0bd3867ee2d1",
   "metadata": {},
   "source": [
    "# Plots"
   ]
  },
  {
   "cell_type": "code",
   "execution_count": 48,
   "id": "3d71a502-e61c-4ae1-bf9c-3870646a9747",
   "metadata": {},
   "outputs": [],
   "source": [
    "scaling=1.8"
   ]
  },
  {
   "cell_type": "code",
   "execution_count": 49,
   "id": "cbdb749a-a2fa-44ee-8dda-e2f83800b60a",
   "metadata": {},
   "outputs": [],
   "source": [
    "color_palette = sns.color_palette('colorblind', 3)"
   ]
  },
  {
   "cell_type": "code",
   "execution_count": 51,
   "id": "e6d18e90-39f7-4ab2-9758-1a1c3470e075",
   "metadata": {},
   "outputs": [
    {
     "data": {
      "image/png": "[encoded data removed]",
      "text/plain": [
       "<Figure size 485.1x299.88 with 1 Axes>"
      ]
     },
     "metadata": {},
     "output_type": "display_data"
    }
   ],
   "source": [
    "# sns.lineplot(dfs_gcnn[\"epoch\"], dfs_gcnn[\"schatten_norm\"], label='G-CNN')\n",
    "plt.figure(figsize=(scaling * 2.695, scaling * 1.666))\n",
    "sns.lineplot(data=dfs_gcnn, x=\"epoch\", y=\"schatten norm\", label='G-CNN',\n",
    "             color=color_palette[1])\n",
    "sns.lineplot(data=dfs_cnn, x=\"epoch\", y=\"schatten norm\", label='CNN',\n",
    "             color=color_palette[0])\n",
    "sns.lineplot(data=dfs_fcnet, x=\"epoch\", y=\"schatten norm\", label='FC',\n",
    "             color=color_palette[2])\n",
    "plt.ylabel(r'$\\displaystyle\\|\\widehat{\\boldsymbol{\\beta}}\\|^{(S)}_{2/L}$')\n",
    "plt.legend()\n",
    "plt.savefig('e2_fourier_norm.pdf')\n",
    "plt.show()"
   ]
  },
  {
   "cell_type": "code",
   "execution_count": 52,
   "id": "4d0af74c-b965-48e9-a186-4ed2d53a21ac",
   "metadata": {},
   "outputs": [
    {
     "data": {
      "image/png": "[encoded data removed]",
      "text/plain": [
       "<Figure size 485.1x299.88 with 1 Axes>"
      ]
     },
     "metadata": {},
     "output_type": "display_data"
    }
   ],
   "source": [
    "plt.figure(figsize=(scaling * 2.695, scaling * 1.666))\n",
    "sns.lineplot(data=dfs_gcnn, x=\"epoch\", y=\"loss\", label='G-CNN',\n",
    "             color=color_palette[1])\n",
    "sns.lineplot(data=dfs_cnn, x=\"epoch\", y=\"loss\", label='CNN',\n",
    "             color=color_palette[0])\n",
    "sns.lineplot(data=dfs_fcnet, x=\"epoch\", y=\"loss\", label='FC',\n",
    "             color=color_palette[2])\n",
    "plt.legend();\n",
    "plt.savefig('e2_loss.pdf')\n",
    "plt.show()"
   ]
  },
  {
   "cell_type": "code",
   "execution_count": null,
   "id": "36b9401d-1443-45e4-bda7-d1921e432653",
   "metadata": {},
   "outputs": [],
   "source": []
  }
 ],
 "metadata": {
  "kernelspec": {
   "display_name": "Python [conda env:root] *",
   "language": "python",
   "name": "conda-root-py"
  },
  "language_info": {
   "codemirror_mode": {
    "name": "ipython",
    "version": 3
   },
   "file_extension": ".py",
   "mimetype": "text/x-python",
   "name": "python",
   "nbconvert_exporter": "python",
   "pygments_lexer": "ipython3",
   "version": "3.8.12"
  }
 },
 "nbformat": 4,
 "nbformat_minor": 5
}
