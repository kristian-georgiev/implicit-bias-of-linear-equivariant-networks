{
 "cells": [
  {
   "cell_type": "code",
   "execution_count": 1,
   "id": "c98385ef-94bf-424e-a767-c918c303a225",
   "metadata": {},
   "outputs": [],
   "source": [
    "import e2cnn\n",
    "from e2cnn import gspaces\n",
    "from e2cnn import nn as e2nn\n",
    "import torch\n",
    "import torch.multiprocessing\n",
    "from torch import nn\n",
    "import torch.optim as optim\n",
    "from torchvision import datasets, transforms\n",
    "import numpy as np\n",
    "import pandas as pd\n",
    "from matplotlib import pyplot as plt\n",
    "from src.nn_training import Group\n",
    "from tqdm.notebook import tqdm\n",
    "import seaborn as sns\n",
    "sns.set_style()"
   ]
  },
  {
   "cell_type": "code",
   "execution_count": 2,
   "id": "c49891b6-9d6c-4d30-9fa7-08af8de750ab",
   "metadata": {},
   "outputs": [
    {
     "name": "stderr",
     "output_type": "stream",
     "text": [
      "/mnt/cfs/home/krisgrg/conda_envs/ffcv_kris/lib/python3.9/site-packages/torch/utils/data/dataloader.py:478: UserWarning: This DataLoader will create 20 worker processes in total. Our suggested max number of worker in current system is 10, which is smaller than what this DataLoader is going to create. Please be aware that excessive worker creation might get DataLoader running slow or even freeze, lower the worker number to avoid potential slowness/freeze if necessary.\n",
      "  warnings.warn(_create_warning_msg(\n"
     ]
    }
   ],
   "source": [
    "transform_comp = transforms.Compose([transforms.ToTensor(),\n",
    "                                     transforms.Resize((28, 28)),\n",
    "                                     transforms.Normalize((0.1307,), (0.3081,))])\n",
    "mnist_data = datasets.MNIST('./data', transform=transform_comp)\n",
    "\n",
    "batch_size = 250\n",
    "data_loader = torch.utils.data.DataLoader(mnist_data,\n",
    "                                          batch_size=batch_size,\n",
    "                                          shuffle=False,\n",
    "                                          num_workers=20)"
   ]
  },
  {
   "cell_type": "code",
   "execution_count": 3,
   "id": "55f81741-b1e4-433d-bdb5-c358666a3fa7",
   "metadata": {},
   "outputs": [],
   "source": [
    "for i, batch in enumerate(data_loader):\n",
    "    x, y = batch\n",
    "    break\n",
    "x = x[0:1, ...]"
   ]
  },
  {
   "cell_type": "code",
   "execution_count": 11,
   "id": "4e0f28b7-b4e1-4be7-b748-b0f5be6c824b",
   "metadata": {},
   "outputs": [],
   "source": [
    "def get_schatten_norm_sum(fcoeffs, irrep_sizes, l):\n",
    "    \"\"\"\n",
    "    Given the Fourier coefficients of the linearization of our network,\n",
    "    this f-n computes the expression for which we want to reach a scaling\n",
    "    of its stationary point in our main theorems (Thm 4.2 and Thm 4.4).\n",
    "    \"\"\"\n",
    "    \n",
    "    # all we're doing here is getting the 2/l norm of the singular values\n",
    "    # of the block diagonal matrix that has each of the irreps of dim n\n",
    "    # repeated n times along its diagonal\n",
    "    \n",
    "    # our code could also be written more cleanly/concisely as\n",
    "    # block_diag_matrix_irrs = torch.block_diag(*[torch.block_diag(*([flat_irrep.reshape(size, size)] * size)) \n",
    "    #                                                              for size, flat_irrep in zip(irrep_sizes, fcoeffs)])\n",
    "    # sigmas = torch.linalg.svdvals(block_diag_matrix_irrs)\n",
    "    # return torch.linalg.vector_norm(sigmas, ord=(2./3.))\n",
    "    # but that'd be a bit slower because of the SVD on a larger (though sparse) matrix\n",
    "    \n",
    "    sum_of_schatten_norms = 0.\n",
    "    flat_irreps_list = torch.split(fcoeffs, [s ** 2 for s in irrep_sizes])\n",
    "\n",
    "    for flat_irrep, irrep_size in zip(flat_irreps_list, irrep_sizes):\n",
    "        irrep = flat_irrep.reshape(irrep_size, irrep_size)\n",
    "        try:\n",
    "            sigmas = torch.linalg.svdvals(irrep)\n",
    "        except:\n",
    "            print('svd :(')\n",
    "            return None\n",
    "        sum_of_schatten_norms += irrep_size * torch.linalg.vector_norm(sigmas, ord=(2. / l)) ** (2. / l)\n",
    "    return sum_of_schatten_norms ** (l / 2.)\n",
    "\n",
    "def eval_schatten_norm(net, inps):\n",
    "    group = Group('MNIST')\n",
    "    fourier_m = group.f_mat\n",
    "    net.eval()\n",
    "    sch_norms = []\n",
    "    for i in range(1):\n",
    "        interm, out = net(inps[i:i + 1])\n",
    "        out.backward()\n",
    "        if net.is_fc:\n",
    "            linearization = interm.grad[0].reshape(-1, 1) - 1.\n",
    "        else:\n",
    "            linearization = interm.grad[0].permute([1, 2, 0])\n",
    "            # re-order to match GAP order\n",
    "            linearization = linearization[:, :, [0, 2, 1, 3, 4, 6, 5, 7]].reshape(-1, 1) - 1.\n",
    "        linearization = linearization / torch.linalg.norm(linearization)\n",
    "        linearization = torch.complex(linearization, torch.zeros_like(linearization))\n",
    "        fspace_linearization = torch.conj(fourier_m).T @ linearization\n",
    "        sch_norm = get_schatten_norm_sum(fspace_linearization, group.irrep_sizes, 3)\n",
    "        sch_norms.append(sch_norm)\n",
    "    net.train()\n",
    "    return torch.stack(sch_norms).mean()\n",
    "\n",
    "def exp_loss(y_pred, y):\n",
    "    \"\"\"\n",
    "    Exponential loss for classification.\n",
    "    \"\"\"\n",
    "    return torch.mean(torch.exp(-y_pred * y))\n",
    "\n",
    "def postprocess(batch):\n",
    "    x, y = batch\n",
    "    # classify 0 vs 5, ignore other digits\n",
    "    x = x[(y == 0) + (y == 5)]\n",
    "    y = y[(y == 0) + (y == 5)]\n",
    "    y[y == 5] = -1\n",
    "    y[y == 0] = 1\n",
    "    y = y.reshape(-1, 1)\n",
    "    reduced_bs = len(y)\n",
    "    return x, y"
   ]
  },
  {
   "cell_type": "code",
   "execution_count": 12,
   "id": "69084464-333c-4794-b59b-59fddb552e2e",
   "metadata": {},
   "outputs": [],
   "source": [
    "class Gcnn(torch.nn.Module):\n",
    "    def __init__(self):\n",
    "        super(Gcnn, self).__init__()\n",
    "        self.r2_act = gspaces.FlipRot2dOnR2(N=4)\n",
    "\n",
    "        self.feat_type_in  = e2nn.FieldType(self.r2_act, [self.r2_act.trivial_repr])\n",
    "        self.feat_type_out = e2nn.FieldType(self.r2_act, [self.r2_act.regular_repr])\n",
    "        self.conv1 = e2nn.R2Conv(self.feat_type_in, self.feat_type_out,\n",
    "                                 kernel_size=25, padding=12,\n",
    "                                 padding_mode='circular', bias=False)\n",
    "        self.conv2 = e2nn.R2Conv(self.feat_type_out, self.feat_type_out,\n",
    "                                 kernel_size=15, padding=0,\n",
    "                                 padding_mode='circular', bias=False)\n",
    "        self.conv3 = e2nn.R2Conv(self.feat_type_out, self.feat_type_out,\n",
    "                                 kernel_size=13, padding=0,\n",
    "                                 padding_mode='circular', bias=False)\n",
    "        self.relu = e2nn.ELU(self.feat_type_out)\n",
    "        self.pooling = e2nn.GroupPooling(self.feat_type_out)\n",
    "        self.batchnorm = e2nn.InnerBatchNorm(self.feat_type_out)\n",
    "\n",
    "        self.nonlinear = True\n",
    "        self.is_g = True\n",
    "        self.is_fc = False\n",
    "        self.l = 3\n",
    "\n",
    "    def forward(self, x):\n",
    "        bs = x.size(0)\n",
    "        x = e2nn.GeometricTensor(x, self.feat_type_in)\n",
    "        interm = self.conv1(x)\n",
    "        interm.tensor.retain_grad()\n",
    "        x = self.relu(interm)\n",
    "        x = self.conv2(x)\n",
    "        x = self.relu(x)\n",
    "        x = self.conv3(x)\n",
    "\n",
    "        return interm.tensor, torch.mean(x.tensor.reshape(bs, -1), axis=1, keepdim=True)"
   ]
  },
  {
   "cell_type": "code",
   "execution_count": 13,
   "id": "623a3339-a87a-41f9-b657-60e9d4d11086",
   "metadata": {},
   "outputs": [],
   "source": [
    "class Cnn(torch.nn.Module):\n",
    "    def __init__(self):\n",
    "        super(Cnn, self).__init__()\n",
    "        self.r2_act = gspaces.TrivialOnR2()\n",
    "\n",
    "        self.feat_type_in  = e2nn.FieldType(self.r2_act, [self.r2_act.regular_repr])\n",
    "        self.feat_type_out = e2nn.FieldType(self.r2_act, 8 * [self.r2_act.regular_repr])\n",
    "        self.conv1 = e2nn.R2Conv(self.feat_type_in, self.feat_type_out,\n",
    "                                 kernel_size=25, padding=12, \n",
    "                                 padding_mode='circular', bias=False)\n",
    "        self.conv2 = e2nn.R2Conv(self.feat_type_out, self.feat_type_out,\n",
    "                                 kernel_size=15, bias=False)\n",
    "        self.conv3 = e2nn.R2Conv(self.feat_type_out, self.feat_type_out,\n",
    "                                 kernel_size=13, bias=False)\n",
    "        self.relu = e2nn.ELU(self.feat_type_out)\n",
    "        self.pooling = e2nn.GroupPooling(self.feat_type_out, )\n",
    "\n",
    "        self.nonlinear = True\n",
    "        self.is_g = False\n",
    "        self.is_fc = False\n",
    "        self.l = 3\n",
    "\n",
    "\n",
    "    def forward(self, x):\n",
    "        bs = x.size(0)\n",
    "        x = e2nn.GeometricTensor(x, self.feat_type_in)\n",
    "        interm = self.conv1(x)\n",
    "        interm.tensor.retain_grad()\n",
    "        x = self.relu(interm)\n",
    "        x = self.conv2(x)\n",
    "        x = self.relu(x)\n",
    "        x = self.conv3(x)\n",
    "\n",
    "        return interm.tensor, torch.mean(x.tensor.reshape(bs, -1), axis=1, keepdim=True)"
   ]
  },
  {
   "cell_type": "code",
   "execution_count": 14,
   "id": "f7d27e3a-375c-4810-ab67-9cc1189856ee",
   "metadata": {},
   "outputs": [],
   "source": [
    "class FCnet(torch.nn.Module):\n",
    "    def __init__(self):\n",
    "        super(FCnet, self).__init__()\n",
    "        self.lin1 = nn.Linear(784, 6272)\n",
    "        self.lin2 = nn.Linear(6272, 128)\n",
    "        self.lin3 = nn.Linear(128, 1)\n",
    "        self.relu = nn.ReLU()\n",
    "\n",
    "        self.nonlinear = True\n",
    "        self.is_g = False\n",
    "        self.is_fc = True\n",
    "        self.l = 3\n",
    "        \n",
    "    def forward(self, x):\n",
    "        bs = x.size(0)\n",
    "        interm = self.lin1(x.reshape(bs, -1))\n",
    "        interm.retain_grad()\n",
    "        x = self.relu(interm)\n",
    "        x = self.lin2(x)\n",
    "        x = self.relu(x)\n",
    "        x = self.lin3(x)\n",
    "        \n",
    "        return interm, torch.mean(x.reshape(bs, -1), axis=1, keepdim=True)"
   ]
  },
  {
   "cell_type": "markdown",
   "id": "7b036d5f-7e9c-4a3d-86d6-a069aab6cb27",
   "metadata": {},
   "source": [
    "# Training"
   ]
  },
  {
   "cell_type": "code",
   "execution_count": 43,
   "id": "c7c80a1e-ab91-4f44-b637-7ab09daec33b",
   "metadata": {},
   "outputs": [],
   "source": [
    "epochs = 1500\n",
    "num_batches = 1\n",
    "init_lr= 1e-4\n",
    "N = 3"
   ]
  },
  {
   "cell_type": "code",
   "execution_count": 16,
   "id": "0740152b-caa4-405a-a161-25e9a30b109b",
   "metadata": {},
   "outputs": [],
   "source": [
    "dataset = [postprocess(batch) for batch in data_loader]"
   ]
  },
  {
   "cell_type": "markdown",
   "id": "27b9868f-b57f-4c65-9462-c5cd3be102df",
   "metadata": {},
   "source": [
    "## G-CNN"
   ]
  },
  {
   "cell_type": "code",
   "execution_count": 44,
   "id": "8288c441-6cfc-4d51-bde4-d8f326897a66",
   "metadata": {
    "tags": []
   },
   "outputs": [
    {
     "name": "stdout",
     "output_type": "stream",
     "text": [
      "CPU times: user 32min 30s, sys: 48min 8s, total: 1h 20min 39s\n",
      "Wall time: 10min 35s\n"
     ]
    }
   ],
   "source": [
    "%%time\n",
    "results_gcnn = []\n",
    "for run_itr in range(N):\n",
    "    net = Gcnn().train()\n",
    "    optimizer = optim.SGD(net.parameters(), lr=init_lr)\n",
    "    loss = torch.Tensor([1.])\n",
    "    acc = torch.Tensor([0.])\n",
    "    for epoch in range(epochs):\n",
    "        net.train()\n",
    "        itr = enumerate(dataset[0:num_batches])\n",
    "        if epoch == 150:\n",
    "            for g in optimizer.param_groups:\n",
    "                g['lr'] *= 1.5\n",
    "        for i, batch in itr:\n",
    "            x, y = batch\n",
    "            if epoch % 5 == 0 and i == 0:\n",
    "                sch_norm = eval_schatten_norm(net, x)\n",
    "                results_gcnn.append([run_itr, epoch, sch_norm.item(), loss.item()])\n",
    "\n",
    "            optimizer.zero_grad()\n",
    "            interm, preds = net(x)\n",
    "            loss = exp_loss(preds, y)\n",
    "            loss.backward()\n",
    "            optimizer.step()\n",
    "\n",
    "            acc = torch.sum(torch.sign(preds) == y) / len(y)"
   ]
  },
  {
   "cell_type": "code",
   "execution_count": 45,
   "id": "619984d8-0d5b-4d01-9df5-1e9cc6f638ee",
   "metadata": {},
   "outputs": [],
   "source": [
    "dfs_gcnn = pd.DataFrame(results_gcnn, columns=['N', 'epoch', 'schatten norm', 'loss'])"
   ]
  },
  {
   "cell_type": "code",
   "execution_count": 46,
   "id": "219f0d1b-6763-49ed-bfa3-2da1d8dcb4e5",
   "metadata": {},
   "outputs": [],
   "source": [
    "dfs_gcnn.to_csv('gcnn_e2.csv', index=False)"
   ]
  },
  {
   "cell_type": "code",
   "execution_count": 47,
   "id": "d7009d4b-e1e3-4460-bbd5-82fc19b73b6f",
   "metadata": {},
   "outputs": [],
   "source": [
    "dfs_gcnn = pd.read_csv('gcnn_e2.csv')"
   ]
  },
  {
   "cell_type": "markdown",
   "id": "ec19fa08-2eec-48ca-81fd-a4db3865c6dc",
   "metadata": {},
   "source": [
    "## CNN"
   ]
  },
  {
   "cell_type": "code",
   "execution_count": 48,
   "id": "a4f8aa6e-a041-4e29-b3df-4ecbabaeaca7",
   "metadata": {
    "tags": []
   },
   "outputs": [
    {
     "name": "stdout",
     "output_type": "stream",
     "text": [
      "CPU times: user 31min 30s, sys: 41min 59s, total: 1h 13min 30s\n",
      "Wall time: 8min 9s\n"
     ]
    }
   ],
   "source": [
    "%%time\n",
    "results_cnn = []\n",
    "for run_itr in range(N):\n",
    "    net = Cnn()\n",
    "    optimizer = optim.SGD(net.parameters(), lr=init_lr)\n",
    "    loss = torch.Tensor([1.])\n",
    "    acc = torch.Tensor([0.])    \n",
    "    for epoch in range(epochs):\n",
    "        itr = enumerate(dataset[0:num_batches])\n",
    "        if epoch == 150:\n",
    "            for g in optimizer.param_groups:\n",
    "                g['lr'] *= 1.5\n",
    "        for i, batch in itr:\n",
    "            x, y = batch\n",
    "            if epoch % 5 == 0 and i == 0:\n",
    "                sch_norm = eval_schatten_norm(net, x)\n",
    "                results_cnn.append([run_itr, epoch, sch_norm.item(), loss.item()])\n",
    "\n",
    "            optimizer.zero_grad()\n",
    "            interm, preds = net(x)\n",
    "            loss = exp_loss(preds, y)\n",
    "            loss.backward()\n",
    "            optimizer.step()\n",
    "            acc = torch.sum(torch.sign(preds - 1.) == y) / len(y)"
   ]
  },
  {
   "cell_type": "code",
   "execution_count": 49,
   "id": "ead6574d-42f4-4fcd-8138-1fd3b36cb800",
   "metadata": {},
   "outputs": [],
   "source": [
    "dfs_cnn = pd.DataFrame(results_cnn, columns=['N', 'epoch', 'schatten norm', 'loss'])"
   ]
  },
  {
   "cell_type": "code",
   "execution_count": 50,
   "id": "b4b072b1-2232-4cd2-a52f-a966a30e2e72",
   "metadata": {},
   "outputs": [],
   "source": [
    "dfs_cnn.to_csv('cnn_e2.csv', index=False)"
   ]
  },
  {
   "cell_type": "code",
   "execution_count": 51,
   "id": "c7b1d279-03aa-4c52-a832-93baa8185992",
   "metadata": {},
   "outputs": [],
   "source": [
    "dfs_cnn = pd.read_csv('cnn_e2.csv')"
   ]
  },
  {
   "cell_type": "markdown",
   "id": "964bd9ff-cca1-4448-90bb-05b502867ef1",
   "metadata": {},
   "source": [
    "# FC net"
   ]
  },
  {
   "cell_type": "code",
   "execution_count": 52,
   "id": "25192430-97d3-47ad-a4e8-d0738c7d83d0",
   "metadata": {
    "tags": []
   },
   "outputs": [
    {
     "data": {
      "application/vnd.jupyter.widget-view+json": {
       "model_id": "dfa32e050e0f4ccba22288dec7c56ba9",
       "version_major": 2,
       "version_minor": 0
      },
      "text/plain": [
       "  0%|          | 0/3 [00:00<?, ?it/s]"
      ]
     },
     "metadata": {},
     "output_type": "display_data"
    },
    {
     "data": {
      "application/vnd.jupyter.widget-view+json": {
       "model_id": "206d8d0d2aa94068b1d0e20fb95cd530",
       "version_major": 2,
       "version_minor": 0
      },
      "text/plain": [
       "  0%|          | 0/1500 [00:00<?, ?it/s]"
      ]
     },
     "metadata": {},
     "output_type": "display_data"
    },
    {
     "data": {
      "application/vnd.jupyter.widget-view+json": {
       "model_id": "7b13025c8330486f891e29565c649b47",
       "version_major": 2,
       "version_minor": 0
      },
      "text/plain": [
       "  0%|          | 0/1500 [00:00<?, ?it/s]"
      ]
     },
     "metadata": {},
     "output_type": "display_data"
    },
    {
     "data": {
      "application/vnd.jupyter.widget-view+json": {
       "model_id": "329c37069e964f358605169371372263",
       "version_major": 2,
       "version_minor": 0
      },
      "text/plain": [
       "  0%|          | 0/1500 [00:00<?, ?it/s]"
      ]
     },
     "metadata": {},
     "output_type": "display_data"
    },
    {
     "name": "stdout",
     "output_type": "stream",
     "text": [
      "CPU times: user 15min 8s, sys: 33min 23s, total: 48min 32s\n",
      "Wall time: 7min 59s\n"
     ]
    }
   ],
   "source": [
    "%%time\n",
    "results_fcnet = []\n",
    "for run_itr in tqdm(range(N)):\n",
    "    net = FCnet()\n",
    "    optimizer = optim.SGD(net.parameters(), lr=init_lr)\n",
    "    loss = torch.Tensor([1.])\n",
    "    acc = torch.Tensor([0.])    \n",
    "    for epoch in tqdm(range(epochs)):\n",
    "        itr = enumerate(dataset[0:num_batches])\n",
    "        if epoch == 150:\n",
    "            for g in optimizer.param_groups:\n",
    "                g['lr'] /= 5.\n",
    "        for i, batch in itr:\n",
    "            x, y = batch\n",
    "            if epoch % 5 == 0 and i == 0:\n",
    "                sch_norm = eval_schatten_norm(net, x)\n",
    "                results_fcnet.append([run_itr, epoch, sch_norm.item(), loss.item()])\n",
    "\n",
    "            optimizer.zero_grad()\n",
    "            interm, preds = net(x)\n",
    "            loss = exp_loss(preds, y)\n",
    "            loss.backward()\n",
    "            optimizer.step()\n",
    "            acc = torch.sum(torch.sign(preds - 1.) == y) / len(y)"
   ]
  },
  {
   "cell_type": "code",
   "execution_count": 53,
   "id": "1bfb6f51-2084-4ba5-96fe-ebb36dd32d3e",
   "metadata": {},
   "outputs": [],
   "source": [
    "dfs_fcnet = pd.DataFrame(results_fcnet, columns=['N', 'epoch', 'schatten norm', 'loss'])"
   ]
  },
  {
   "cell_type": "code",
   "execution_count": 54,
   "id": "5bde7420-9921-4b29-9f65-c121295cc29b",
   "metadata": {},
   "outputs": [],
   "source": [
    "dfs_fcnet.to_csv('fcnet_e2.csv', index=False)"
   ]
  },
  {
   "cell_type": "code",
   "execution_count": 55,
   "id": "aaa1a735-d6bd-42d5-a72c-cf3b2be03f06",
   "metadata": {},
   "outputs": [],
   "source": [
    "dfs_fcnet = pd.read_csv('fcnet_e2.csv')"
   ]
  },
  {
   "cell_type": "markdown",
   "id": "162d4890-69a6-4024-b55b-0bd3867ee2d1",
   "metadata": {},
   "source": [
    "# Plots"
   ]
  },
  {
   "cell_type": "code",
   "execution_count": 56,
   "id": "3d71a502-e61c-4ae1-bf9c-3870646a9747",
   "metadata": {},
   "outputs": [],
   "source": [
    "scaling=1.8"
   ]
  },
  {
   "cell_type": "code",
   "execution_count": 57,
   "id": "cbdb749a-a2fa-44ee-8dda-e2f83800b60a",
   "metadata": {},
   "outputs": [],
   "source": [
    "color_palette = sns.color_palette('colorblind', 3)"
   ]
  },
  {
   "cell_type": "code",
   "execution_count": 58,
   "id": "e6d18e90-39f7-4ab2-9758-1a1c3470e075",
   "metadata": {},
   "outputs": [
    {
     "data": {
      "image/png": "[encoded data removed]",
      "text/plain": [
       "<Figure size 349.272x215.914 with 1 Axes>"
      ]
     },
     "metadata": {},
     "output_type": "display_data"
    }
   ],
   "source": [
    "plt.figure(figsize=(scaling * 2.695, scaling * 1.666))\n",
    "sns.lineplot(data=dfs_gcnn, x=\"epoch\", y=\"schatten norm\", label='G-CNN',\n",
    "             color=color_palette[1])\n",
    "sns.lineplot(data=dfs_cnn, x=\"epoch\", y=\"schatten norm\", label='CNN',\n",
    "             color=color_palette[0])\n",
    "sns.lineplot(data=dfs_fcnet, x=\"epoch\", y=\"schatten norm\", label='FC',\n",
    "             color=color_palette[2])\n",
    "# plt.ylabel(r'$\\displaystyle\\|\\widehat{\\boldsymbol{\\beta}}\\|^{(S)}_{2/L}$')\n",
    "plt.legend()\n",
    "plt.savefig('e2_fourier_norm.pdf')\n",
    "plt.show()"
   ]
  },
  {
   "cell_type": "code",
   "execution_count": 59,
   "id": "e37e5c41-e3aa-43ef-b284-c82eb591d3da",
   "metadata": {},
   "outputs": [
    {
     "data": {
      "image/png": "[encoded data removed]",
      "text/plain": [
       "<Figure size 349.272x215.914 with 1 Axes>"
      ]
     },
     "metadata": {},
     "output_type": "display_data"
    }
   ],
   "source": [
    "plt.figure(figsize=(scaling * 2.695, scaling * 1.666))\n",
    "sns.lineplot(data=dfs_gcnn, x=\"epoch\", y=\"loss\", label='G-CNN',\n",
    "             color=color_palette[1])\n",
    "sns.lineplot(data=dfs_cnn, x=\"epoch\", y=\"loss\", label='CNN',\n",
    "             color=color_palette[0])\n",
    "sns.lineplot(data=dfs_fcnet, x=\"epoch\", y=\"loss\", label='FC',\n",
    "             color=color_palette[2])\n",
    "plt.legend();\n",
    "plt.savefig('e2_loss.pdf')\n",
    "plt.show()"
   ]
  }
 ],
 "metadata": {
  "kernelspec": {
   "display_name": "Python 3 (ipykernel)",
   "language": "python",
   "name": "python3"
  },
  "language_info": {
   "codemirror_mode": {
    "name": "ipython",
    "version": 3
   },
   "file_extension": ".py",
   "mimetype": "text/x-python",
   "name": "python",
   "nbconvert_exporter": "python",
   "pygments_lexer": "ipython3",
   "version": "3.9.10"
  }
 },
 "nbformat": 4,
 "nbformat_minor": 5
}
