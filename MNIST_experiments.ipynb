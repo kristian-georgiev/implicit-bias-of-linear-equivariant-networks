{
 "cells": [
  {
   "cell_type": "code",
   "execution_count": 1,
   "id": "c415df84-0c5e-4d4e-88d8-0a67c8e0030d",
   "metadata": {
    "tags": []
   },
   "outputs": [],
   "source": [
    "import torch\n",
    "from torchvision import datasets, transforms\n",
    "import e2cnn\n",
    "from e2cnn import nn as e2nn\n",
    "import numpy as np\n",
    "import pickle\n",
    "import sys\n",
    "from matplotlib import pyplot as plt\n",
    "import seaborn as sns\n",
    "\n",
    "# local imports\n",
    "from src.nn_training import Group, plot_schatten_norm_sums_and_loss\n",
    "from src.nn_training import g_net, conv_net, fc_net\n",
    "from src.nn_training import relu_g_net, relu_conv_net, relu_fc_net\n",
    "from src.nn_training import relu_g_net_pool, relu_conv_net_pool, relu_fc_net_pool\n",
    "from src.utils import get_training_dataframes, postprocess"
   ]
  },
  {
   "cell_type": "code",
   "execution_count": 2,
   "id": "9e9b0578-7a3d-47a8-a285-af08e072ba67",
   "metadata": {},
   "outputs": [
    {
     "name": "stderr",
     "output_type": "stream",
     "text": [
      "/mnt/cfs/home/krisgrg/conda_envs/ffcv_kris/lib/python3.9/site-packages/torch/utils/data/dataloader.py:478: UserWarning: This DataLoader will create 20 worker processes in total. Our suggested max number of worker in current system is 10, which is smaller than what this DataLoader is going to create. Please be aware that excessive worker creation might get DataLoader running slow or even freeze, lower the worker number to avoid potential slowness/freeze if necessary.\n",
      "  warnings.warn(_create_warning_msg(\n"
     ]
    }
   ],
   "source": [
    "transform_comp = transforms.Compose([transforms.ToTensor(),\n",
    "                                     transforms.Resize((28, 28)),\n",
    "                                     transforms.Normalize((0.1307,), (0.3081,))])\n",
    "mnist_data = datasets.MNIST('./data', transform=transform_comp, download=True)\n",
    "\n",
    "batch_size = 50\n",
    "data_loader = torch.utils.data.DataLoader(mnist_data,\n",
    "                                          batch_size=batch_size,\n",
    "                                          shuffle=False,\n",
    "                                          num_workers=20)"
   ]
  },
  {
   "cell_type": "code",
   "execution_count": 3,
   "id": "b77e523d-02c4-458a-b7d1-a68cdc18bbf0",
   "metadata": {},
   "outputs": [],
   "source": [
    "def exp_loss(y_pred, y):\n",
    "    \"\"\"\n",
    "    Exponential loss for classification.\n",
    "    \"\"\"\n",
    "    print(torch.exp(-torch.real(y_pred) * y))\n",
    "    return torch.mean(torch.exp(-torch.real(y_pred) * y))\n"
   ]
  },
  {
   "cell_type": "code",
   "execution_count": null,
   "id": "0a529a60-03b8-473d-9f0a-39c9d6ae8750",
   "metadata": {
    "tags": []
   },
   "outputs": [],
   "source": [
    "# %%time\n",
    "experiment_name = \"MNIST_CNN_100_epochs\"\n",
    "group = Group('MNIST')\n",
    "N = 2 # average over trajectories\n",
    "force_train = False\n",
    "\n",
    "nets = {\"CNN\": conv_net}\n",
    "dfs = get_training_dataframes(experiment_name, force_train)\n",
    "\n",
    "dfs, net = plot_schatten_norm_sums_and_loss(nets, group, dataloader=data_loader, postprocess_fn=postprocess,\n",
    "                                       N=N, epochs=100, cuda=False, dfs=dfs, exp_name=experiment_name, lr=2e-6)\n",
    "with open(f'data/training/{experiment_name}.pickle', 'wb') as f:\n",
    "    pickle.dump(dfs, f, protocol=pickle.HIGHEST_PROTOCOL)"
   ]
  },
  {
   "cell_type": "code",
   "execution_count": 6,
   "id": "6356b61d-0285-421c-8e00-f608bc54f0c6",
   "metadata": {},
   "outputs": [
    {
     "data": {
      "text/plain": [
       "[Parameter containing:\n",
       " tensor([[ 0.0058],\n",
       "         [-0.0058],\n",
       "         [-0.0079],\n",
       "         ...,\n",
       "         [ 0.0117],\n",
       "         [-0.0038],\n",
       "         [-0.0072]], requires_grad=True)]"
      ]
     },
     "execution_count": 6,
     "metadata": {},
     "output_type": "execute_result"
    }
   ],
   "source": [
    "net = g_net(group)\n",
    "list(net.parameters())"
   ]
  },
  {
   "cell_type": "code",
   "execution_count": 8,
   "id": "2eaae64e-071e-47a5-a31e-5a193d9a3a4d",
   "metadata": {},
   "outputs": [
    {
     "data": {
      "text/plain": [
       "OrderedDict([('fc1',\n",
       "              tensor([[ 0.0058],\n",
       "                      [-0.0058],\n",
       "                      [-0.0079],\n",
       "                      ...,\n",
       "                      [ 0.0117],\n",
       "                      [-0.0038],\n",
       "                      [-0.0072]], device='cuda:0'))])"
      ]
     },
     "execution_count": 8,
     "metadata": {},
     "output_type": "execute_result"
    }
   ],
   "source": [
    "net.state_dict()"
   ]
  },
  {
   "cell_type": "code",
   "execution_count": 7,
   "id": "385ce305-9499-478c-9069-75739ca3e06a",
   "metadata": {},
   "outputs": [
    {
     "data": {
      "text/plain": [
       "device(type='cuda', index=0)"
      ]
     },
     "execution_count": 7,
     "metadata": {},
     "output_type": "execute_result"
    }
   ],
   "source": [
    "net = net.cuda()\n",
    "net.fc1.device"
   ]
  },
  {
   "cell_type": "code",
   "execution_count": null,
   "id": "53e16512-c9ce-4d9a-afb4-c98dfc0e9196",
   "metadata": {
    "tags": []
   },
   "outputs": [
    {
     "name": "stdout",
     "output_type": "stream",
     "text": [
      "Will train before plotting.\n"
     ]
    },
    {
     "data": {
      "application/vnd.jupyter.widget-view+json": {
       "model_id": "8c920d50900f47beb9509d3f644fdf28",
       "version_major": 2,
       "version_minor": 0
      },
      "text/plain": [
       "  0%|          | 0/2 [00:00<?, ?it/s]"
      ]
     },
     "metadata": {},
     "output_type": "display_data"
    },
    {
     "data": {
      "application/vnd.jupyter.widget-view+json": {
       "model_id": "82f58213682f4ebcbe2a10e35f42652c",
       "version_major": 2,
       "version_minor": 0
      },
      "text/plain": [
       "  0%|          | 0/100 [00:00<?, ?it/s]"
      ]
     },
     "metadata": {},
     "output_type": "display_data"
    },
    {
     "name": "stderr",
     "output_type": "stream",
     "text": [
      "/mnt/cfs/home/krisgrg/conda_envs/ffcv_kris/lib/python3.9/site-packages/torch/utils/data/dataloader.py:478: UserWarning: This DataLoader will create 20 worker processes in total. Our suggested max number of worker in current system is 10, which is smaller than what this DataLoader is going to create. Please be aware that excessive worker creation might get DataLoader running slow or even freeze, lower the worker number to avoid potential slowness/freeze if necessary.\n",
      "  warnings.warn(_create_warning_msg(\n"
     ]
    },
    {
     "name": "stdout",
     "output_type": "stream",
     "text": [
      "preds: tensor([[ 0.1519],\n",
      "        [ 0.7463],\n",
      "        [ 0.5189],\n",
      "        [-0.0480],\n",
      "        [ 0.2866],\n",
      "        [ 0.3345],\n",
      "        [ 0.7275],\n",
      "        [ 1.5513],\n",
      "        [ 0.0357],\n",
      "        [ 0.5857],\n",
      "        [ 0.0877]], device='cuda:0', grad_fn=<MmBackward0>)\n",
      "preds: tensor([[0.8800],\n",
      "        [0.4724],\n",
      "        [0.5868],\n",
      "        [0.3471],\n",
      "        [0.6405],\n",
      "        [0.8985],\n",
      "        [0.7014],\n",
      "        [0.7604]], device='cuda:0', grad_fn=<MmBackward0>)\n"
     ]
    },
    {
     "data": {
      "application/vnd.jupyter.widget-view+json": {
       "model_id": "bcda7fed7d004cc4831fa9ca274ab064",
       "version_major": 2,
       "version_minor": 0
      },
      "text/plain": [
       "  0%|          | 0/100 [00:00<?, ?it/s]"
      ]
     },
     "metadata": {},
     "output_type": "display_data"
    },
    {
     "name": "stdout",
     "output_type": "stream",
     "text": [
      "preds: tensor([[ 0.1775],\n",
      "        [ 0.6648],\n",
      "        [ 0.3250],\n",
      "        [ 0.3971],\n",
      "        [ 0.2881],\n",
      "        [-0.1098],\n",
      "        [ 0.8334],\n",
      "        [ 0.0277],\n",
      "        [-0.1881],\n",
      "        [ 0.8636],\n",
      "        [-0.5621]], device='cuda:0', grad_fn=<MmBackward0>)\n",
      "preds: tensor([[1.1179],\n",
      "        [0.2650],\n",
      "        [1.0474],\n",
      "        [0.2846],\n",
      "        [0.3323],\n",
      "        [0.8180],\n",
      "        [0.4129],\n",
      "        [0.4648]], device='cuda:0', grad_fn=<MmBackward0>)\n"
     ]
    },
    {
     "data": {
      "application/vnd.jupyter.widget-view+json": {
       "model_id": "dc3897f29d904cfb820df149e0a708f1",
       "version_major": 2,
       "version_minor": 0
      },
      "text/plain": [
       "  0%|          | 0/100 [00:00<?, ?it/s]"
      ]
     },
     "metadata": {},
     "output_type": "display_data"
    },
    {
     "name": "stdout",
     "output_type": "stream",
     "text": [
      "preds: tensor([[ 0.4703],\n",
      "        [ 0.8125],\n",
      "        [ 0.6187],\n",
      "        [ 0.4040],\n",
      "        [ 0.2958],\n",
      "        [ 0.6586],\n",
      "        [ 0.8826],\n",
      "        [ 0.3191],\n",
      "        [ 0.2080],\n",
      "        [ 0.8819],\n",
      "        [-0.0028]], device='cuda:0', grad_fn=<MmBackward0>)\n",
      "preds: tensor([[0.7208],\n",
      "        [0.5632],\n",
      "        [0.8452],\n",
      "        [0.6703],\n",
      "        [0.8495],\n",
      "        [0.6866],\n",
      "        [0.9848],\n",
      "        [1.3041]], device='cuda:0', grad_fn=<MmBackward0>)\n"
     ]
    },
    {
     "data": {
      "application/vnd.jupyter.widget-view+json": {
       "model_id": "118ece190e484c448618b1e49b2c0999",
       "version_major": 2,
       "version_minor": 0
      },
      "text/plain": [
       "  0%|          | 0/100 [00:00<?, ?it/s]"
      ]
     },
     "metadata": {},
     "output_type": "display_data"
    }
   ],
   "source": [
    "%%time\n",
    "experiment_name = \"MNIST_GCNN_100_epochs\"\n",
    "group = Group('MNIST')\n",
    "N = 2 # average over trajectories\n",
    "force_train = False\n",
    "\n",
    "nets = {\"G-CNN\": g_net}\n",
    "dfs = get_training_dataframes(experiment_name, force_train)\n",
    "\n",
    "dfs, net = plot_schatten_norm_sums_and_loss(nets, group, dataloader=data_loader, postprocess_fn=postprocess,\n",
    "                                       N=N, epochs=100, cuda=True, dfs=dfs, exp_name=experiment_name, lr=2e-6)\n",
    "with open(f'data/training/{experiment_name}.pickle', 'wb') as f:\n",
    "    pickle.dump(dfs, f, protocol=pickle.HIGHEST_PROTOCOL)"
   ]
  },
  {
   "cell_type": "code",
   "execution_count": 6,
   "id": "311c5efe-0945-40bf-9d34-8100bf193408",
   "metadata": {
    "tags": []
   },
   "outputs": [
    {
     "data": {
      "image/png": "[encoded data removed]",
      "text/plain": [
       "<Figure size 485.1x299.88 with 1 Axes>"
      ]
     },
     "metadata": {},
     "output_type": "display_data"
    },
    {
     "data": {
      "image/png": "[encoded data removed]",
      "text/plain": [
       "<Figure size 485.1x299.88 with 1 Axes>"
      ]
     },
     "metadata": {},
     "output_type": "display_data"
    },
    {
     "data": {
      "image/png": "[encoded data removed]",
      "text/plain": [
       "<Figure size 485.1x299.88 with 1 Axes>"
      ]
     },
     "metadata": {},
     "output_type": "display_data"
    },
    {
     "name": "stdout",
     "output_type": "stream",
     "text": [
      "CPU times: user 6.55 s, sys: 623 ms, total: 7.17 s\n",
      "Wall time: 8.03 s\n"
     ]
    }
   ],
   "source": [
    "%%time\n",
    "experiment_name = \"MNIST_FC_100_epochs\"\n",
    "group = Group('MNIST')\n",
    "N = 2 # average over trajectories\n",
    "force_train = False\n",
    "\n",
    "nets = {\"FC\": fc_net}\n",
    "dfs = get_training_dataframes(experiment_name, force_train)\n",
    "\n",
    "dfs, net = plot_schatten_norm_sums_and_loss(nets, group, dataloader=data_loader, postprocess_fn=postprocess,\n",
    "                                       N=N, epochs=100, cuda=True, dfs=dfs, exp_name=experiment_name, lr=0.0001)\n",
    "with open(f'data/training/{experiment_name}.pickle', 'wb') as f:\n",
    "    pickle.dump(dfs, f, protocol=pickle.HIGHEST_PROTOCOL)"
   ]
  },
  {
   "cell_type": "code",
   "execution_count": 7,
   "id": "354f3c6c-e963-4303-97a0-e9fb566f6427",
   "metadata": {},
   "outputs": [],
   "source": [
    "experiment_name = 'MNIST_FC_100_epochs'\n",
    "with open(f'data/training/{experiment_name}.pickle', 'rb') as f:\n",
    "    dfs_fc = pickle.load(f)\n",
    "\n",
    "experiment_name = 'MNIST_CNN_100_epochs'\n",
    "with open(f'data/training/{experiment_name}.pickle', 'rb') as f:\n",
    "    dfs_cnn = pickle.load(f)\n",
    "\n",
    "experiment_name = 'MNIST_GCNN_100_epochs'\n",
    "with open(f'data/training/{experiment_name}.pickle', 'rb') as f:\n",
    "    dfs_gcnn = pickle.load(f)"
   ]
  },
  {
   "cell_type": "code",
   "execution_count": 8,
   "id": "ddaf180e-e2c0-484c-aa0d-0dcbdc8d8993",
   "metadata": {},
   "outputs": [
    {
     "data": {
      "image/png": "[encoded data removed]",
      "text/plain": [
       "<Figure size 485.1x299.88 with 1 Axes>"
      ]
     },
     "metadata": {},
     "output_type": "display_data"
    },
    {
     "data": {
      "image/png": "[encoded data removed]",
      "text/plain": [
       "<Figure size 485.1x299.88 with 1 Axes>"
      ]
     },
     "metadata": {},
     "output_type": "display_data"
    },
    {
     "data": {
      "image/png": "[encoded data removed]",
      "text/plain": [
       "<Figure size 485.1x299.88 with 1 Axes>"
      ]
     },
     "metadata": {},
     "output_type": "display_data"
    }
   ],
   "source": [
    "dfs = {**dfs_cnn, **dfs_gcnn, **dfs_fc}\n",
    "experiment_name = 'MNIST_plot'\n",
    "group = Group('MNIST')\n",
    "dfs = plot_schatten_norm_sums_and_loss(nets={}, group=group, dataloader=data_loader, postprocess_fn=postprocess,\n",
    "                                       N=0, epochs=0, cuda=True, dfs=dfs, exp_name=experiment_name)"
   ]
  },
  {
   "cell_type": "code",
   "execution_count": null,
   "id": "30223863-4cac-4345-a6d3-43609fcecb1d",
   "metadata": {
    "tags": []
   },
   "outputs": [],
   "source": [
    "%%time\n",
    "experiment_name = \"MNIST_FC_relu\"\n",
    "group = Group('MNIST')\n",
    "N = 2 # average over trajectories\n",
    "force_train = False\n",
    "\n",
    "nets = {\"FC\": relu_fc_net}\n",
    "dfs = get_training_dataframes(experiment_name, force_train)\n",
    "\n",
    "dfs = plot_schatten_norm_sums_and_loss(nets, group, dataloader=data_loader, postprocess_fn=postprocess,\n",
    "                                       N=N, epochs=100, cuda=True, dfs=dfs, exp_name=experiment_name, lr=0.0001)\n",
    "with open(f'data/training/{experiment_name}.pickle', 'wb') as f:\n",
    "    pickle.dump(dfs, f, protocol=pickle.HIGHEST_PROTOCOL)"
   ]
  },
  {
   "cell_type": "code",
   "execution_count": null,
   "id": "1863e454-d198-47d8-97a1-529b39d2495a",
   "metadata": {
    "tags": []
   },
   "outputs": [],
   "source": [
    "%%time\n",
    "experiment_name = \"MNIST_CNN_relu\"\n",
    "group = Group('MNIST')\n",
    "N = 2 # average over trajectories\n",
    "force_train = False\n",
    "\n",
    "nets = {\"CNN\": relu_conv_net}\n",
    "dfs = get_training_dataframes(experiment_name, force_train)\n",
    "\n",
    "dfs = plot_schatten_norm_sums_and_loss(nets, group, dataloader=data_loader, postprocess_fn=postprocess,\n",
    "                                       N=N, epochs=100, cuda=True, dfs=dfs, exp_name=experiment_name, lr=2e-6)\n",
    "with open(f'data/training/{experiment_name}.pickle', 'wb') as f:\n",
    "    pickle.dump(dfs, f, protocol=pickle.HIGHEST_PROTOCOL)"
   ]
  },
  {
   "cell_type": "code",
   "execution_count": null,
   "id": "759d20e4-0a03-4694-92f9-67fd3e44ab23",
   "metadata": {
    "tags": []
   },
   "outputs": [],
   "source": [
    "%%time\n",
    "experiment_name = \"MNIST_GCNN_relu\"\n",
    "group = Group('MNIST')\n",
    "N = 2 # average over trajectories\n",
    "force_train = False\n",
    "\n",
    "nets = {\"G-CNN\": relu_g_net}\n",
    "dfs = get_training_dataframes(experiment_name, force_train)\n",
    "\n",
    "dfs = plot_schatten_norm_sums_and_loss(nets, group, dataloader=data_loader, postprocess_fn=postprocess,\n",
    "                                       N=N, epochs=100, cuda=True, dfs=dfs, exp_name=experiment_name, lr=2e-6)\n",
    "with open(f'data/training/{experiment_name}.pickle', 'wb') as f:\n",
    "    pickle.dump(dfs, f, protocol=pickle.HIGHEST_PROTOCOL)"
   ]
  },
  {
   "cell_type": "code",
   "execution_count": null,
   "id": "40e18d34-bc53-4bb1-8a3e-db56eacc8f2d",
   "metadata": {},
   "outputs": [],
   "source": []
  },
  {
   "cell_type": "code",
   "execution_count": null,
   "id": "4a1afa00-9a7b-4213-8bdd-a7bcf6890062",
   "metadata": {},
   "outputs": [],
   "source": []
  },
  {
   "cell_type": "code",
   "execution_count": null,
   "id": "b7f2f957-5159-4548-b67c-799e61720c84",
   "metadata": {
    "tags": []
   },
   "outputs": [],
   "source": [
    "%%time\n",
    "experiment_name = \"MNIST_FC_relu_pooling\"\n",
    "group = Group('MNIST')\n",
    "N = 2 # average over trajectories\n",
    "force_train = True\n",
    "\n",
    "nets = {\"FC\": relu_fc_net_pool}\n",
    "dfs = get_training_dataframes(experiment_name, force_train)\n",
    "\n",
    "dfs = plot_schatten_norm_sums_and_loss(nets, group, dataloader=data_loader, postprocess_fn=postprocess,\n",
    "                                       N=N, epochs=10, cuda=True, dfs=dfs, exp_name=experiment_name, lr=1e-4)\n",
    "with open(f'data/training/{experiment_name}.pickle', 'wb') as f:\n",
    "    pickle.dump(dfs, f, protocol=pickle.HIGHEST_PROTOCOL)"
   ]
  },
  {
   "cell_type": "code",
   "execution_count": null,
   "id": "80650052-1005-46dd-b789-ed2a28b23ee3",
   "metadata": {
    "tags": []
   },
   "outputs": [],
   "source": [
    "%%time\n",
    "experiment_name = \"MNIST_CNN_relu_pooling\"\n",
    "group = Group('MNIST')\n",
    "N = 5 # average over trajectories\n",
    "force_train = True\n",
    "\n",
    "nets = {\"CNN\": relu_conv_net_pool}\n",
    "dfs = get_training_dataframes(experiment_name, force_train)\n",
    "\n",
    "dfs = plot_schatten_norm_sums_and_loss(nets, group, dataloader=data_loader, postprocess_fn=postprocess,\n",
    "                                       N=N, epochs=10, cuda=True, dfs=dfs, exp_name=experiment_name, lr=2e-6)\n",
    "with open(f'data/training/{experiment_name}.pickle', 'wb') as f:\n",
    "    pickle.dump(dfs, f, protocol=pickle.HIGHEST_PROTOCOL)"
   ]
  },
  {
   "cell_type": "code",
   "execution_count": null,
   "id": "5bc9bd00-f09e-49ea-b447-a85419c4388a",
   "metadata": {},
   "outputs": [],
   "source": [
    "gn = g_net(group)"
   ]
  },
  {
   "cell_type": "code",
   "execution_count": null,
   "id": "f5e0a55a-c5a0-4e24-9314-067dea22c13c",
   "metadata": {},
   "outputs": [],
   "source": [
    "for batch in data_loader:\n",
    "    b = batch\n",
    "    break"
   ]
  },
  {
   "cell_type": "code",
   "execution_count": null,
   "id": "a2ebd2a2-944e-41c9-9bce-be7e0b93c8e5",
   "metadata": {},
   "outputs": [],
   "source": [
    "z, y = postprocess(b)"
   ]
  },
  {
   "cell_type": "code",
   "execution_count": null,
   "id": "095e34f0-f126-4435-8aae-cf59e644ffdc",
   "metadata": {},
   "outputs": [],
   "source": [
    "z = z.requires_grad_()"
   ]
  },
  {
   "cell_type": "code",
   "execution_count": null,
   "id": "1581f53b-bfe4-4b03-b976-7ffc8da5d06b",
   "metadata": {},
   "outputs": [],
   "source": [
    "gn(z)"
   ]
  },
  {
   "cell_type": "code",
   "execution_count": null,
   "id": "b1647beb-2cca-46e8-bfc7-98f5d7446ba7",
   "metadata": {},
   "outputs": [],
   "source": [
    "x = gn.conv2(gn.conv1(z))"
   ]
  },
  {
   "cell_type": "code",
   "execution_count": null,
   "id": "2f25be80-9db3-4554-b536-bd1226ef1335",
   "metadata": {},
   "outputs": [],
   "source": [
    "r = torch.max(x.real, dim=-1, keepdim=True)[0] + 1.j * 0"
   ]
  },
  {
   "cell_type": "code",
   "execution_count": null,
   "id": "d8998ff6-ecda-489d-9c24-fc6419480aa0",
   "metadata": {},
   "outputs": [],
   "source": [
    "pred = gn(x)"
   ]
  },
  {
   "cell_type": "code",
   "execution_count": null,
   "id": "c5ef0495-de7b-4d3d-83d8-5380c92fd345",
   "metadata": {},
   "outputs": [],
   "source": [
    "loss = torch.mean(pred)"
   ]
  },
  {
   "cell_type": "code",
   "execution_count": null,
   "id": "f91d62f8-7735-49dd-9b2f-cf21b6af40ec",
   "metadata": {},
   "outputs": [],
   "source": [
    "loss.backward()"
   ]
  },
  {
   "cell_type": "code",
   "execution_count": null,
   "id": "a0baed61-9788-4fa6-96db-5d9ea4add17c",
   "metadata": {},
   "outputs": [],
   "source": [
    "loss"
   ]
  },
  {
   "cell_type": "code",
   "execution_count": null,
   "id": "5cf0d54b-ed25-42a9-9653-f8abd19856ef",
   "metadata": {},
   "outputs": [],
   "source": [
    "from src.nn_training import exp_loss"
   ]
  },
  {
   "cell_type": "code",
   "execution_count": null,
   "id": "686b052b-8014-491a-a8eb-58093a915f90",
   "metadata": {},
   "outputs": [],
   "source": [
    "mp = torch.nn.MaxPool1d(group.order)"
   ]
  },
  {
   "cell_type": "code",
   "execution_count": null,
   "id": "bbcce532-2173-4f92-94b1-26d7cc820f03",
   "metadata": {},
   "outputs": [],
   "source": [
    "rr = mp(x.unsqueeze(1).real).squeeze(1)"
   ]
  },
  {
   "cell_type": "code",
   "execution_count": null,
   "id": "8ebdeec2-4571-4272-99a6-8f2c84b14262",
   "metadata": {},
   "outputs": [],
   "source": [
    "rr.shape"
   ]
  },
  {
   "cell_type": "code",
   "execution_count": null,
   "id": "69809172-6948-4c41-bdf1-dd174ebce70b",
   "metadata": {},
   "outputs": [],
   "source": [
    "r = torch.max(x.real) + 1.j * 0"
   ]
  },
  {
   "cell_type": "code",
   "execution_count": null,
   "id": "e89d935c-fbd4-49cb-8736-66098c5843e2",
   "metadata": {},
   "outputs": [],
   "source": [
    "loss = torch.mean(torch.exp(-r * y))\n",
    "loss.backward()"
   ]
  },
  {
   "cell_type": "code",
   "execution_count": null,
   "id": "f5424347-7e00-4cad-9fbb-0cf2903046e4",
   "metadata": {},
   "outputs": [],
   "source": []
  },
  {
   "cell_type": "code",
   "execution_count": null,
   "id": "5e50a291-11a0-4810-a733-90d802dd7827",
   "metadata": {},
   "outputs": [],
   "source": [
    "import torch\n",
    "from torchvision import datasets, transforms\n",
    "import e2cnn\n",
    "from e2cnn import nn as e2nn\n",
    "import numpy as np\n",
    "import pickle\n",
    "import sys\n",
    "from matplotlib import pyplot as plt\n",
    "import seaborn as sns\n",
    "\n",
    "# local imports\n",
    "from src.nn_training import Group, plot_schatten_norm_sums_and_loss\n",
    "from src.nn_training import g_net, conv_net, fc_net, g_net_jit\n",
    "from src.nn_training import relu_g_net, relu_conv_net, relu_fc_net\n",
    "from src.nn_training import relu_g_net_pool, relu_conv_net_pool, relu_fc_net_pool\n",
    "from src.utils import get_training_dataframes, postprocess"
   ]
  },
  {
   "cell_type": "code",
   "execution_count": null,
   "id": "05b9722a-a9b0-4e4b-b410-0d355c069649",
   "metadata": {},
   "outputs": [],
   "source": [
    "transform_comp = transforms.Compose([transforms.ToTensor(),\n",
    "                                     transforms.Resize((28, 28)),\n",
    "                                     transforms.Normalize((0.1307,), (0.3081,))])\n",
    "mnist_data = datasets.MNIST('./data', transform=transform_comp)\n",
    "\n",
    "batch_size = 50\n",
    "data_loader = torch.utils.data.DataLoader(mnist_data,\n",
    "                                          batch_size=batch_size,\n",
    "                                          shuffle=True,\n",
    "                                          num_workers=20)"
   ]
  },
  {
   "cell_type": "code",
   "execution_count": null,
   "id": "55487eae-d25f-40eb-b763-5cff4fd6643b",
   "metadata": {
    "tags": []
   },
   "outputs": [],
   "source": [
    "%%time\n",
    "experiment_name = \"autograd_DEBUG\"\n",
    "group = Group('MNIST')\n",
    "N = 1 # average over trajectories\n",
    "force_train = True\n",
    "\n",
    "nets = {\"G-CNN\": g_net}\n",
    "dfs = get_training_dataframes(experiment_name, force_train)\n",
    "\n",
    "dfs = plot_schatten_norm_sums_and_loss(nets, group, dataloader=data_loader, postprocess_fn=postprocess,\n",
    "                                       N=N, epochs=2, cuda=True, dfs=dfs, exp_name=experiment_name, lr=2e-6)\n",
    "with open(f'data/training/{experiment_name}.pickle', 'wb') as f:\n",
    "    pickle.dump(dfs, f, protocol=pickle.HIGHEST_PROTOCOL)"
   ]
  },
  {
   "cell_type": "code",
   "execution_count": null,
   "id": "88a59050-fc2d-488c-965a-5f8b8ee3a6e5",
   "metadata": {},
   "outputs": [],
   "source": []
  },
  {
   "cell_type": "code",
   "execution_count": null,
   "id": "48ae4cdd-dd93-4673-8a99-f1e48a8657fc",
   "metadata": {},
   "outputs": [],
   "source": []
  },
  {
   "cell_type": "code",
   "execution_count": null,
   "id": "f2ac37c2-6a11-43c6-a049-2441f8132d44",
   "metadata": {},
   "outputs": [],
   "source": []
  },
  {
   "cell_type": "code",
   "execution_count": null,
   "id": "30ffc942-4b66-48ad-98d2-7c7a75aa0b6c",
   "metadata": {},
   "outputs": [],
   "source": []
  },
  {
   "cell_type": "code",
   "execution_count": 21,
   "id": "e76fb790-420c-4c76-9ab2-03ae1d3dfc54",
   "metadata": {},
   "outputs": [],
   "source": [
    "from torch import nn\n",
    "from torch.nn.parameter import Parameter\n",
    "import math"
   ]
  },
  {
   "cell_type": "code",
   "execution_count": 34,
   "id": "3f0d0963-341b-4b5b-a2cb-9cd2b965973e",
   "metadata": {},
   "outputs": [],
   "source": [
    "def g_conv_func(inp: torch.Tensor,\n",
    "                filt: torch.Tensor,\n",
    "                group_order: int,\n",
    "                group_tensorize_inds: torch.Tensor):\n",
    "    \"\"\"\n",
    "    Implements a G-convolution for a given group G.\n",
    "    \"\"\"\n",
    "    n = group_order\n",
    "    # inp has size (batch, n)\n",
    "    unfold_input = (inp.repeat(1, n)[:, group_tensorize_inds]).reshape(-1, n, n)\n",
    "    # unfolded input has size (batch, n, n)\n",
    "    unfold_input = torch.transpose(unfold_input, -1, -2)\n",
    "    # filt has size (1, n)\n",
    "    out = filt @ unfold_input\n",
    "    return torch.squeeze(out, 1)\n",
    "\n",
    "\n",
    "class g_conv(nn.Module):\n",
    "    \"\"\"\n",
    "    torch.nn.Conv1D-style conv module for group convolutions.\n",
    "    \"\"\"\n",
    "    def __init__(self, group, bias=False, nonlinear=False):\n",
    "        super().__init__()\n",
    "        self.group = group\n",
    "        self.nonlinear = nonlinear\n",
    "        self.n = self.group.order\n",
    "        self.in_features = self.n\n",
    "        self.out_features = self.n\n",
    "        self.weight = Parameter(torch.Tensor(1, self.in_features))\n",
    "        self.reset_parameters()\n",
    "\n",
    "\n",
    "    def reset_parameters(self):\n",
    "        nonlinearity = 'linear' if not self.nonlinear else 'relu'\n",
    "        nn.init.kaiming_uniform_(self.weight, nonlinearity=nonlinearity)\n",
    "        # with torch.no_grad():\n",
    "        #     self.weight *= np.sqrt(self.n)\n",
    "\n",
    "    def forward(self, input):\n",
    "        return g_conv_func(inp=input, filt=self.weight,\n",
    "                           group_order=self.group.order,\n",
    "                           group_tensorize_inds=self.group.tensorize_inds)\n"
   ]
  },
  {
   "cell_type": "code",
   "execution_count": 23,
   "id": "894efc34-b03e-4bff-a2c6-8e2bd21db18b",
   "metadata": {},
   "outputs": [],
   "source": [
    "class g_net(nn.Module):\n",
    "    \"\"\"\n",
    "    A simple implementation of a linear G-CNN.\n",
    "    \"\"\"\n",
    "    def __init__(self, group):\n",
    "        \"\"\"\n",
    "        n: (int) group order\n",
    "        \"\"\"\n",
    "        super().__init__()\n",
    "        self.group = group\n",
    "        self.n = self.group.order\n",
    "        self.nonlinear = False\n",
    "        self.is_g = True\n",
    "\n",
    "        self.conv1 = g_conv(self.group, nonlinear=self.nonlinear)\n",
    "        self.conv2 = g_conv(self.group, nonlinear=self.nonlinear)\n",
    "        self.lin_layer = torch.Tensor(self.n, 1)\n",
    "        self.reset_parameters()\n",
    "        self.fc1 = Parameter(self.lin_layer)\n",
    "\n",
    "        self.l = 3  # this includes the linear layer fc1\n",
    "\n",
    "    def reset_parameters(self):\n",
    "        self.conv1.reset_parameters()\n",
    "        self.conv2.reset_parameters()\n",
    "        stdv = 1. / math.sqrt(self.n)\n",
    "        self.lin_layer.data.uniform_(-stdv, stdv)\n",
    "\n",
    "    def forward(self, x):\n",
    "        return (self.conv2(self.conv1(x))) @ self.fc1"
   ]
  },
  {
   "cell_type": "code",
   "execution_count": 27,
   "id": "5d8469e3-0ca6-41e8-b597-c654b1849065",
   "metadata": {},
   "outputs": [],
   "source": [
    "net = g_net(group)"
   ]
  },
  {
   "cell_type": "code",
   "execution_count": 32,
   "id": "25968970-61fa-4497-ae96-d16e3142b632",
   "metadata": {},
   "outputs": [
    {
     "data": {
      "text/plain": [
       "Parameter containing:\n",
       "tensor([[-0.0021, -0.0158, -0.0211,  ..., -0.0199,  0.0215, -0.0184]],\n",
       "       device='cuda:0', requires_grad=True)"
      ]
     },
     "execution_count": 32,
     "metadata": {},
     "output_type": "execute_result"
    }
   ],
   "source": [
    "net = net.cuda()\n",
    "net.conv1.weight"
   ]
  },
  {
   "cell_type": "code",
   "execution_count": 30,
   "id": "bcc094ab-bdae-46af-9eb6-4385177f36fb",
   "metadata": {},
   "outputs": [
    {
     "data": {
      "text/plain": [
       "[Parameter containing:\n",
       " tensor([[ 0.0124],\n",
       "         [ 0.0063],\n",
       "         [-0.0092],\n",
       "         ...,\n",
       "         [-0.0003],\n",
       "         [-0.0041],\n",
       "         [-0.0048]], requires_grad=True),\n",
       " Parameter containing:\n",
       " tensor([[-0.0021, -0.0158, -0.0211,  ..., -0.0199,  0.0215, -0.0184]],\n",
       "        requires_grad=True),\n",
       " Parameter containing:\n",
       " tensor([[-0.0216, -0.0088,  0.0126,  ..., -0.0200,  0.0002,  0.0181]],\n",
       "        requires_grad=True)]"
      ]
     },
     "execution_count": 30,
     "metadata": {},
     "output_type": "execute_result"
    }
   ],
   "source": [
    "list(net.parameters())"
   ]
  },
  {
   "cell_type": "code",
   "execution_count": null,
   "id": "f306e2f1-cdf8-49fe-8d31-0f893a97d6b9",
   "metadata": {},
   "outputs": [],
   "source": []
  }
 ],
 "metadata": {
  "kernelspec": {
   "display_name": "Python 3 (ipykernel)",
   "language": "python",
   "name": "python3"
  },
  "language_info": {
   "codemirror_mode": {
    "name": "ipython",
    "version": 3
   },
   "file_extension": ".py",
   "mimetype": "text/x-python",
   "name": "python",
   "nbconvert_exporter": "python",
   "pygments_lexer": "ipython3",
   "version": "3.9.10"
  }
 },
 "nbformat": 4,
 "nbformat_minor": 5
}
