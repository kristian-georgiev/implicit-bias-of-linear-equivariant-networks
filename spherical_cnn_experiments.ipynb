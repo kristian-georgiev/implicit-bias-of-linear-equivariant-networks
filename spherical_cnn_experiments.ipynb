{
 "cells": [
  {
   "cell_type": "code",
   "execution_count": 25,
   "id": "c98385ef-94bf-424e-a767-c918c303a225",
   "metadata": {},
   "outputs": [],
   "source": [
    "import e2cnn\n",
    "from e2cnn import gspaces\n",
    "from e2cnn import nn as e2nn\n",
    "import torch\n",
    "import torch.multiprocessing\n",
    "from torch import nn\n",
    "import torch.optim as optim\n",
    "import torch.nn.functional as F\n",
    "from torchvision import datasets, transforms\n",
    "import numpy as np\n",
    "import pandas as pd\n",
    "import matplotlib as mpl\n",
    "from matplotlib import pyplot as plt\n",
    "from src.nn_training import Group\n",
    "from tqdm.notebook import tqdm\n",
    "import seaborn as sns\n",
    "import gzip\n",
    "import torch.utils.data as data_utils\n",
    "import pickle\n",
    "\n",
    "from s2cnn_soft.s2_conv import S2Convolution\n",
    "from s2cnn_soft.so3_conv import SO3Convolution, SO3_fft_real\n",
    "from s2cnn_soft.s2_grid import s2_near_identity_grid\n",
    "from s2cnn_soft.so3_grid import so3_near_identity_grid\n",
    "from s2cnn_soft.so3_integrate import so3_integrate\n",
    "\n",
    "from s2cnn_soft.so3_fft import _setup_wigner\n",
    "from lie_learn.representations.SO3.wigner_d import wigner_d_matrix\n",
    "\n",
    "from matplotlib import rc\n",
    "rc(\"text\", usetex=False)\n",
    "sns.set_style()"
   ]
  },
  {
   "cell_type": "code",
   "execution_count": 2,
   "id": "cb5b2676-a1fe-4db4-a37a-895450d8e025",
   "metadata": {},
   "outputs": [],
   "source": [
    "def load_data(path, batch_size):\n",
    "\n",
    "    with gzip.open(path, 'rb') as f:\n",
    "        dataset = pickle.load(f)\n",
    "\n",
    "    train_data = torch.from_numpy(\n",
    "        dataset[\"train\"][\"images\"][:, None, :, :].astype(np.float32))\n",
    "    train_labels = torch.from_numpy(\n",
    "        dataset[\"train\"][\"labels\"].astype(np.int64))\n",
    "\n",
    "    # TODO normalize dataset\n",
    "    # mean = train_data.mean()\n",
    "    # stdv = train_data.std()\n",
    "\n",
    "    train_dataset = data_utils.TensorDataset(train_data, train_labels)\n",
    "    train_loader = data_utils.DataLoader(train_dataset, batch_size=batch_size, shuffle=True)\n",
    "\n",
    "    test_data = torch.from_numpy(\n",
    "        dataset[\"test\"][\"images\"][:, None, :, :].astype(np.float32))\n",
    "    test_labels = torch.from_numpy(\n",
    "        dataset[\"test\"][\"labels\"].astype(np.int64))\n",
    "\n",
    "    test_dataset = data_utils.TensorDataset(test_data, test_labels)\n",
    "    test_loader = data_utils.DataLoader(test_dataset, batch_size=batch_size, shuffle=True)\n",
    "\n",
    "    return train_loader, test_loader, train_dataset, "
   ]
  },
  {
   "cell_type": "code",
   "execution_count": 3,
   "id": "4e0f28b7-b4e1-4be7-b748-b0f5be6c824b",
   "metadata": {},
   "outputs": [],
   "source": [
    "def get_schatten_norm_sum(fcoeffs, irrep_sizes, l):\n",
    "    \"\"\"\n",
    "    Given the Fourier coefficients of the linearization of our network,\n",
    "    this f-n computes the expression for which we want to reach a scaling\n",
    "    of its stationary point in our main theorems (Thm 4.2 and Thm 4.4).\n",
    "    \"\"\"\n",
    "    \n",
    "    # all we're doing here is getting the 2/l norm of the singular values\n",
    "    # of the block diagonal matrix that has each of the irreps of dim n\n",
    "    # repeated n times along its diagonal\n",
    "    \n",
    "    # our code could also be written more cleanly/concisely as\n",
    "    # block_diag_matrix_irrs = torch.block_diag(*[torch.block_diag(*([flat_irrep.reshape(size, size)] * size)) \n",
    "    #                                                              for size, flat_irrep in zip(irrep_sizes, fcoeffs)])\n",
    "    # sigmas = torch.linalg.svdvals(block_diag_matrix_irrs)\n",
    "    # return torch.linalg.vector_norm(sigmas, ord=(2./3.))\n",
    "    # but that'd be a bit slower because of the SVD on a larger (though sparse) matrix\n",
    "    \n",
    "    sum_of_schatten_norms = 0.\n",
    "    flat_irreps_list = torch.split(fcoeffs, [s ** 2 for s in irrep_sizes])\n",
    "\n",
    "    for flat_irrep, irrep_size in zip(flat_irreps_list, irrep_sizes):\n",
    "        irrep = flat_irrep.reshape(irrep_size, irrep_size)\n",
    "        try:\n",
    "            sigmas = torch.linalg.svdvals(irrep)\n",
    "        except:\n",
    "            return None\n",
    "        sum_of_schatten_norms += irrep_size * torch.linalg.vector_norm(sigmas, ord=(2. / l)) ** (2. / l)\n",
    "    return sum_of_schatten_norms ** (l / 2.)\n",
    "\n",
    "\n",
    "def eval_schatten_norm(net, inps):\n",
    "    net.eval()\n",
    "    sch_norms = []\n",
    "    interm, out = net(inps)\n",
    "    out.sum().backward()\n",
    "    linearization_all = interm.grad\n",
    "    sch_norm_all = []\n",
    "    \n",
    "    for i in range(linearization_all.size(1)):\n",
    "        linearization = linearization_all[:, 0:1, ...]\n",
    "        batch_size = linearization.size(0)    \n",
    "        linearization /= torch.linalg.norm(linearization.reshape(batch_size, -1),\n",
    "                                           dim=1).reshape(batch_size, 1, 1, 1, 1)\n",
    "\n",
    "        fspace_linearization = SO3_fft_real.apply(linearization,\n",
    "                                                  s2net.conv1.b_out).squeeze(2).permute([2, 1, 0])\n",
    "        fcoeffs_real = fspace_linearization[0]\n",
    "        fcoeffs_imag = fspace_linearization[1]\n",
    "        fcoeffs = torch.complex(fcoeffs_real, fcoeffs_imag)\n",
    "        irrep_sizes = [(2 * i + 1) for i in range(net.b_l1)]\n",
    "        for sample in fcoeffs:\n",
    "            sch_norm = get_schatten_norm_sum(sample, irrep_sizes, 3)\n",
    "            sch_norms.append(sch_norm)\n",
    "        sch_norm_for_lin = torch.stack(sch_norms).mean()\n",
    "        sch_norm_all.append(sch_norm_for_lin)\n",
    "    net.train()\n",
    "    return torch.stack(sch_norm_all).mean()\n",
    "\n",
    "\n",
    "def exp_loss(y_pred, y):\n",
    "    \"\"\"\n",
    "    Exponential loss for classification.\n",
    "    \"\"\"\n",
    "    return torch.mean(torch.exp(-y_pred * y))\n",
    "\n",
    "def postprocess(batch):\n",
    "    x, y = batch\n",
    "    # classify 0 vs 5, ignore other digits\n",
    "    x = x[(y == 0) + (y == 5)]\n",
    "    y = y[(y == 0) + (y == 5)]\n",
    "    y[y == 0] = 1\n",
    "    y[y == 5] = 0\n",
    "    y = y.reshape(-1)\n",
    "    reduced_bs = len(y)\n",
    "    return x, y"
   ]
  },
  {
   "cell_type": "code",
   "execution_count": 4,
   "id": "518f2d12-3c7e-4fc2-9107-ca73d294d0fa",
   "metadata": {},
   "outputs": [],
   "source": [
    "train_loader, _, train_dataset = load_data('s2_mnist.gz', 64)"
   ]
  },
  {
   "cell_type": "code",
   "execution_count": 5,
   "id": "674dc3ec-da4b-47d5-8d60-683b3dc9406f",
   "metadata": {},
   "outputs": [],
   "source": [
    "for ims, labels in train_loader:\n",
    "    x, y = ims, labels\n",
    "    break"
   ]
  },
  {
   "cell_type": "code",
   "execution_count": 6,
   "id": "6c45698b-c7ab-4b5b-9afe-f7f8c88d87d6",
   "metadata": {},
   "outputs": [
    {
     "data": {
      "text/plain": [
       "<matplotlib.image.AxesImage at 0x7f2ae8616bb0>"
      ]
     },
     "execution_count": 6,
     "metadata": {},
     "output_type": "execute_result"
    },
    {
     "data": {
      "image/png": "[encoded data removed]",
      "text/plain": [
       "<Figure size 576x396 with 1 Axes>"
      ]
     },
     "metadata": {},
     "output_type": "display_data"
    }
   ],
   "source": [
    "plt.imshow(x[0].permute(1,2,0).numpy())"
   ]
  },
  {
   "cell_type": "code",
   "execution_count": 7,
   "id": "37ae8625-be00-44c2-8d47-6b6fa3458397",
   "metadata": {},
   "outputs": [],
   "source": [
    "class S2ConvNet_original(nn.Module):\n",
    "\n",
    "    def __init__(self):\n",
    "        super(S2ConvNet_original, self).__init__()\n",
    "\n",
    "        f1 = 5\n",
    "        f2 = 100\n",
    "        f_output = 2\n",
    "\n",
    "        b_in = 30\n",
    "        self.b_l1 = 5\n",
    "        b_l2 = 3\n",
    "\n",
    "        grid_s2 = s2_near_identity_grid()\n",
    "        grid_so3 = so3_near_identity_grid()\n",
    "\n",
    "        self.conv1 = S2Convolution(\n",
    "            nfeature_in=1,\n",
    "            nfeature_out=f1,\n",
    "            b_in=b_in,\n",
    "            b_out=self.b_l1,\n",
    "            grid=grid_s2)\n",
    "\n",
    "        self.conv2 = SO3Convolution(\n",
    "            nfeature_in=f1,\n",
    "            nfeature_out=f2,\n",
    "            b_in=self.b_l1,\n",
    "            b_out=b_l2,\n",
    "            grid=grid_so3)\n",
    "\n",
    "        self.conv3 = SO3Convolution(\n",
    "            nfeature_in=f2,\n",
    "            nfeature_out=f2,\n",
    "            b_in=b_l2,\n",
    "            b_out=b_l2,\n",
    "            grid=grid_so3)\n",
    "\n",
    "        self.out_layer = nn.Linear(f2, f_output)\n",
    "        \n",
    "        self.is_spherical = True\n",
    "        self.is_fc = False\n",
    "\n",
    "    def forward(self, x):\n",
    "\n",
    "        x = self.conv1(x)\n",
    "        interm = F.relu(x)\n",
    "        interm.retain_grad()\n",
    "        \n",
    "        x = self.conv2(interm)\n",
    "        x = F.relu(x)\n",
    "        x = self.conv3(x)\n",
    "\n",
    "        x = so3_integrate(x)\n",
    "        x = self.out_layer(x.reshape(x.size(0), -1))\n",
    "\n",
    "        return interm, x"
   ]
  },
  {
   "cell_type": "code",
   "execution_count": 8,
   "id": "5f15408c-484b-4bed-9729-a7c8f60ee539",
   "metadata": {},
   "outputs": [],
   "source": [
    "s2net = S2ConvNet_original()\n",
    "interm, out = s2net(x)\n",
    "out.sum().backward()"
   ]
  },
  {
   "cell_type": "code",
   "execution_count": 9,
   "id": "bca4bbee-b238-4f41-972f-965b75d7ad52",
   "metadata": {},
   "outputs": [
    {
     "data": {
      "text/plain": [
       "torch.Size([64, 165])"
      ]
     },
     "execution_count": 9,
     "metadata": {},
     "output_type": "execute_result"
    }
   ],
   "source": [
    "linearization = interm.grad[:, 0:1, ...]\n",
    "batch_size = linearization.size(0)\n",
    "linearization /= torch.linalg.norm(linearization.reshape(batch_size, -1), dim=1).reshape(batch_size, 1, 1, 1, 1)\n",
    "fspace_linearization = SO3_fft_real.apply(linearization, s2net.conv1.b_out).squeeze(2).permute([2, 1, 0])\n",
    "fcoeffs_real = fspace_linearization[0]\n",
    "fcoeffs_imag = fspace_linearization[1]\n",
    "fcoeffs = torch.complex(fcoeffs_real, fcoeffs_imag)\n",
    "fcoeffs.shape"
   ]
  },
  {
   "cell_type": "code",
   "execution_count": 10,
   "id": "b1434553-63c1-46bf-96da-12c3f0494adc",
   "metadata": {},
   "outputs": [
    {
     "data": {
      "text/plain": [
       "tensor(0.1097)"
      ]
     },
     "execution_count": 10,
     "metadata": {},
     "output_type": "execute_result"
    }
   ],
   "source": [
    "irrep_sizes = [(2 * i + 1) for i in range(s2net.b_l1)]\n",
    "get_schatten_norm_sum(fcoeffs[0], irrep_sizes, l=2)"
   ]
  },
  {
   "cell_type": "markdown",
   "id": "d77490b0-ab6b-43a7-b150-f85da3cc53f9",
   "metadata": {},
   "source": [
    "#### Verify unitarity of Wigner-D matrices"
   ]
  },
  {
   "cell_type": "code",
   "execution_count": 11,
   "id": "f094c4ad-0cd7-4fa5-9b42-9edbe9f17220",
   "metadata": {},
   "outputs": [
    {
     "data": {
      "text/plain": [
       "2.220446049250313e-16"
      ]
     },
     "execution_count": 11,
     "metadata": {},
     "output_type": "execute_result"
    }
   ],
   "source": [
    "l = 10\n",
    "beta = 0\n",
    "w = wigner_d_matrix(l, beta)\n",
    "np.max(np.abs(w.T @ w - np.identity(2 * l + 1)))"
   ]
  },
  {
   "cell_type": "code",
   "execution_count": 12,
   "id": "f7d27e3a-375c-4810-ab67-9cc1189856ee",
   "metadata": {},
   "outputs": [],
   "source": [
    "class FCnet(torch.nn.Module):\n",
    "    def __init__(self):\n",
    "        super(FCnet, self).__init__()\n",
    "        self.lin1 = nn.Linear(5000, 1024)\n",
    "        self.lin2 = nn.Linear(1024, 2)\n",
    "        self.relu = nn.ReLU()\n",
    "\n",
    "        self.nonlinear = True\n",
    "        self.is_g = False\n",
    "        self.is_fc = True\n",
    "        self.l = 3\n",
    "\n",
    "        b_in = 30\n",
    "        self.b_l1 = 5\n",
    "        grid_s2 = s2_near_identity_grid()\n",
    "        self.s2conv = S2Convolution(\n",
    "            nfeature_in=1,\n",
    "            nfeature_out=5,\n",
    "            b_in=b_in,\n",
    "            b_out=self.b_l1,\n",
    "            grid=grid_s2)\n",
    "\n",
    "        \n",
    "    def forward(self, x):\n",
    "        batch_size = x.size(0)\n",
    "        x = self.s2conv(x)\n",
    "        interm = self.relu(x)\n",
    "        interm.retain_grad()\n",
    "        x = self.lin1(interm.reshape(batch_size, -1))\n",
    "        x = self.relu(x)\n",
    "        x = self.lin2(x)\n",
    "        \n",
    "        return interm, x"
   ]
  },
  {
   "cell_type": "code",
   "execution_count": 13,
   "id": "c2b7bfe1-3cef-4b21-986b-509a6a7f9fff",
   "metadata": {},
   "outputs": [],
   "source": [
    "class CNN(torch.nn.Module):\n",
    "    def __init__(self):\n",
    "        super(CNN, self).__init__()\n",
    "        self.conv1 = nn.Conv2d(in_channels=5, out_channels=50,\n",
    "                               kernel_size=5, stride=2)\n",
    "        self.conv2 = nn.Conv2d(in_channels=50, out_channels=10,\n",
    "                               kernel_size=3, stride=2)\n",
    "        self.lin = nn.Linear(230, 2)\n",
    "        self.relu = nn.ReLU()\n",
    "\n",
    "        self.nonlinear = True\n",
    "        self.is_g = False\n",
    "        self.is_fc = False\n",
    "        self.l = 3\n",
    "\n",
    "        b_in = 30\n",
    "        self.b_l1 = 5\n",
    "        grid_s2 = s2_near_identity_grid()\n",
    "        self.s2conv = S2Convolution(\n",
    "            nfeature_in=1,\n",
    "            nfeature_out=5,\n",
    "            b_in=b_in,\n",
    "            b_out=self.b_l1,\n",
    "            grid=grid_s2)\n",
    "\n",
    "        \n",
    "    def forward(self, x):\n",
    "        batch_size = x.size(0)\n",
    "        x = self.s2conv(x)\n",
    "        interm = self.relu(x)\n",
    "        interm.retain_grad()\n",
    "        x = self.conv1(interm.reshape(batch_size, 5, 100, 10))\n",
    "        # x = self.conv1(interm.reshape(batch_size, -1))\n",
    "        x = self.relu(x)\n",
    "        x = self.conv2(x)\n",
    "        x = self.lin(x.reshape(batch_size, -1))\n",
    "        return interm, x"
   ]
  },
  {
   "cell_type": "markdown",
   "id": "7b036d5f-7e9c-4a3d-86d6-a069aab6cb27",
   "metadata": {},
   "source": [
    "# Training"
   ]
  },
  {
   "cell_type": "code",
   "execution_count": 15,
   "id": "ec842c61-9431-4b3c-a81e-ee82105a6caa",
   "metadata": {},
   "outputs": [],
   "source": [
    "dataset = [postprocess(batch) for batch in train_loader]"
   ]
  },
  {
   "cell_type": "markdown",
   "id": "27b9868f-b57f-4c65-9462-c5cd3be102df",
   "metadata": {},
   "source": [
    "## Spherical CNN"
   ]
  },
  {
   "cell_type": "code",
   "execution_count": 16,
   "id": "c7c80a1e-ab91-4f44-b637-7ab09daec33b",
   "metadata": {},
   "outputs": [],
   "source": [
    "epochs = 400\n",
    "num_batches = 3\n",
    "init_lr= 5e-4\n",
    "N = 1\n",
    "# criterion = exp_loss\n",
    "criterion = torch.nn.CrossEntropyLoss()"
   ]
  },
  {
   "cell_type": "code",
   "execution_count": 18,
   "id": "8288c441-6cfc-4d51-bde4-d8f326897a66",
   "metadata": {
    "tags": []
   },
   "outputs": [
    {
     "name": "stdout",
     "output_type": "stream",
     "text": [
      "Schatten norm at epoch 0 is 0.413; acc: 0.0000\n",
      "Schatten norm at epoch 20 is 0.413; acc: 0.4667\n",
      "Schatten norm at epoch 40 is 0.413; acc: 0.5333\n",
      "Schatten norm at epoch 60 is 0.413; acc: 0.5333\n",
      "Schatten norm at epoch 80 is 0.413; acc: 0.6000\n",
      "Schatten norm at epoch 100 is 0.413; acc: 0.6000\n",
      "Schatten norm at epoch 120 is 0.413; acc: 0.5333\n",
      "Schatten norm at epoch 140 is 0.413; acc: 0.6000\n",
      "Schatten norm at epoch 160 is 0.413; acc: 0.6000\n",
      "Schatten norm at epoch 180 is 0.413; acc: 0.5333\n",
      "Schatten norm at epoch 200 is 0.412; acc: 0.8000\n",
      "Schatten norm at epoch 220 is 0.412; acc: 0.8000\n",
      "Schatten norm at epoch 240 is 0.412; acc: 0.8000\n",
      "Schatten norm at epoch 260 is 0.412; acc: 0.8000\n",
      "Schatten norm at epoch 280 is 0.412; acc: 0.6667\n",
      "Schatten norm at epoch 300 is 0.411; acc: 0.8667\n",
      "Schatten norm at epoch 320 is 0.411; acc: 0.9333\n",
      "Schatten norm at epoch 340 is 0.411; acc: 0.9333\n",
      "Schatten norm at epoch 360 is 0.411; acc: 0.9333\n",
      "Schatten norm at epoch 380 is 0.411; acc: 0.9333\n",
      "CPU times: user 17min 12s, sys: 32min 4s, total: 49min 17s\n",
      "Wall time: 5min 29s\n"
     ]
    }
   ],
   "source": [
    "%%time\n",
    "results_scnn = []\n",
    "for run_itr in range(N):\n",
    "    net = S2ConvNet_original()\n",
    "    net.train()\n",
    "\n",
    "    # freeze lifting layer\n",
    "    optimizer = optim.SGD(net.parameters(), lr=init_lr)\n",
    "\n",
    "    loss = torch.Tensor([1.])\n",
    "    acc = torch.Tensor([0.])\n",
    "\n",
    "    for epoch in range(epochs):\n",
    "        # itr = tqdm(enumerate(dataset[0:num_batches]))\n",
    "        itr = enumerate(dataset[0:num_batches])\n",
    "        if loss.isnan().item():\n",
    "            print('Fail')\n",
    "            break\n",
    "\n",
    "        if epoch == 100:\n",
    "            for g in optimizer.param_groups:\n",
    "                g['lr'] *= 1.5\n",
    "\n",
    "        for i, batch in itr:\n",
    "            x, y = batch\n",
    "            if epoch % 20 == 0 and i == 0:\n",
    "                # print(f'(mean of) first layer weights {net.conv1.kernel.mean():.5f}')\n",
    "                # print(f'second layer weights {net.conv2.kernel.mean():.5f}')\n",
    "                # print(f'third layer weights {net.conv3.kernel.mean():.5f}')\n",
    "                # print(f'fourth layer weights {net.conv4.kernel.mean():.5f}')\n",
    "                sch_norm = eval_schatten_norm(net, x)\n",
    "                print(f'Schatten norm at epoch {epoch} is {sch_norm:.3f}; acc: {acc.item():.4f}')\n",
    "                results_scnn.append([run_itr, epoch, sch_norm.item(), loss.item()])\n",
    "\n",
    "            optimizer.zero_grad()\n",
    "            interm, preds = net(x)\n",
    "            loss = criterion(preds, y)\n",
    "            loss.backward()\n",
    "            net.conv1.kernel.grad = torch.zeros_like(net.conv1.kernel.grad)\n",
    "            net.conv1.bias.grad = torch.zeros_like(net.conv1.bias.grad)\n",
    "            optimizer.step()\n",
    "\n",
    "#             acc = torch.sum(torch.sign(preds) == y) / len(y)\n",
    "            acc = torch.sum((preds[:, 0] < preds[:, 1]) == y) / len(y)\n",
    "\n",
    "            # itr.set_description(f'loss: {loss.item():.4f}, acc: {acc.item():.3f}')"
   ]
  },
  {
   "cell_type": "code",
   "execution_count": 19,
   "id": "619984d8-0d5b-4d01-9df5-1e9cc6f638ee",
   "metadata": {},
   "outputs": [],
   "source": [
    "dfs_scnn = pd.DataFrame(results_scnn, columns=['N', 'epoch', 'schatten norm', 'loss'])"
   ]
  },
  {
   "cell_type": "code",
   "execution_count": 20,
   "id": "219f0d1b-6763-49ed-bfa3-2da1d8dcb4e5",
   "metadata": {},
   "outputs": [],
   "source": [
    "dfs_scnn.to_csv('spehrical_cnn_mnist.csv', index=False)"
   ]
  },
  {
   "cell_type": "code",
   "execution_count": 17,
   "id": "d7009d4b-e1e3-4460-bbd5-82fc19b73b6f",
   "metadata": {},
   "outputs": [],
   "source": [
    "dfs_scnn = pd.read_csv('spehrical_cnn_mnist.csv')"
   ]
  },
  {
   "cell_type": "markdown",
   "id": "964bd9ff-cca1-4448-90bb-05b502867ef1",
   "metadata": {},
   "source": [
    "# FC net"
   ]
  },
  {
   "cell_type": "code",
   "execution_count": 20,
   "id": "96d71a87-756b-42f5-a07f-203fd26897c6",
   "metadata": {},
   "outputs": [],
   "source": [
    "epochs = 400\n",
    "num_batches = 3\n",
    "init_lr= 5e-4\n",
    "N = 1"
   ]
  },
  {
   "cell_type": "code",
   "execution_count": 21,
   "id": "25192430-97d3-47ad-a4e8-d0738c7d83d0",
   "metadata": {
    "tags": []
   },
   "outputs": [
    {
     "data": {
      "application/vnd.jupyter.widget-view+json": {
       "model_id": "9d1f82e04b9f45a995ae7b73f2f355b0",
       "version_major": 2,
       "version_minor": 0
      },
      "text/plain": [
       "  0%|          | 0/1 [00:00<?, ?it/s]"
      ]
     },
     "metadata": {},
     "output_type": "display_data"
    },
    {
     "data": {
      "application/vnd.jupyter.widget-view+json": {
       "model_id": "1db2d88be76c4251a925ae6dd01b9509",
       "version_major": 2,
       "version_minor": 0
      },
      "text/plain": [
       "  0%|          | 0/400 [00:00<?, ?it/s]"
      ]
     },
     "metadata": {},
     "output_type": "display_data"
    },
    {
     "name": "stdout",
     "output_type": "stream",
     "text": [
      "CPU times: user 5min 46s, sys: 10min 51s, total: 16min 37s\n",
      "Wall time: 1min 48s\n"
     ]
    }
   ],
   "source": [
    "%%time\n",
    "results_fcnet = []\n",
    "for run_itr in tqdm(range(N)):\n",
    "    net = FCnet()\n",
    "    optimizer = optim.SGD(net.parameters(), lr=init_lr)\n",
    "    loss = torch.Tensor([1.])\n",
    "    acc = torch.Tensor([0.])    \n",
    "    for epoch in tqdm(range(epochs)):\n",
    "        if loss.isnan().item():\n",
    "            break\n",
    "        # itr = tqdm(enumerate(dataset[0:num_batches]))\n",
    "        itr = enumerate(dataset[0:num_batches])\n",
    "        if epoch == 150:\n",
    "            for g in optimizer.param_groups:\n",
    "                g['lr'] /= 5.\n",
    "        for i, batch in itr:\n",
    "            x, y = batch\n",
    "            if epoch % 5 == 0 and i == 0:\n",
    "                sch_norm = eval_schatten_norm(net, x)\n",
    "#                 print(f'Schatten norm at epoch {epoch} is {sch_norm:.1f}; acc is {acc.item()}')\n",
    "                results_fcnet.append([run_itr, epoch, sch_norm.item(), loss.item()])\n",
    "\n",
    "            optimizer.zero_grad()\n",
    "            interm, preds = net(x)\n",
    "            loss = criterion(preds, y)\n",
    "            loss.backward()\n",
    "            net.s2conv.kernel.grad = torch.zeros_like(net.s2conv.kernel.grad)\n",
    "            net.s2conv.bias.grad = torch.zeros_like(net.s2conv.bias.grad)\n",
    "            optimizer.step()\n",
    "            acc = torch.sum((preds[:, 0] < preds[:, 1]) == y) / len(y)\n",
    "#             acc = torch.sum(torch.sign(preds - 1.) == y) / len(y)\n",
    "            # itr.set_description(f'loss: {loss.item():.4f}, acc: {acc.item():.3f}')"
   ]
  },
  {
   "cell_type": "code",
   "execution_count": 22,
   "id": "1bfb6f51-2084-4ba5-96fe-ebb36dd32d3e",
   "metadata": {},
   "outputs": [],
   "source": [
    "dfs_fcnet = pd.DataFrame(results_fcnet, columns=['N', 'epoch', 'schatten norm', 'loss'])"
   ]
  },
  {
   "cell_type": "code",
   "execution_count": 23,
   "id": "5bde7420-9921-4b29-9f65-c121295cc29b",
   "metadata": {},
   "outputs": [],
   "source": [
    "dfs_fcnet.to_csv('fcnet_spherical_mnist.csv', index=False)"
   ]
  },
  {
   "cell_type": "code",
   "execution_count": 18,
   "id": "aaa1a735-d6bd-42d5-a72c-cf3b2be03f06",
   "metadata": {},
   "outputs": [],
   "source": [
    "dfs_fcnet = pd.read_csv('fcnet_spherical_mnist.csv')"
   ]
  },
  {
   "cell_type": "markdown",
   "id": "598f943e-5039-4869-8556-8b16e05f0f43",
   "metadata": {},
   "source": [
    "## CNN"
   ]
  },
  {
   "cell_type": "code",
   "execution_count": 18,
   "id": "a06f519b-0bdd-4b7f-ae25-f0622631448e",
   "metadata": {},
   "outputs": [],
   "source": [
    "epochs = 400\n",
    "num_batches = 3\n",
    "init_lr= 5e-4\n",
    "N = 1"
   ]
  },
  {
   "cell_type": "code",
   "execution_count": 40,
   "id": "a4f8aa6e-a041-4e29-b3df-4ecbabaeaca7",
   "metadata": {
    "tags": []
   },
   "outputs": [
    {
     "name": "stdout",
     "output_type": "stream",
     "text": [
      "Schatten norm at epoch 0 is 1.884; acc is 0.0\n",
      "Schatten norm at epoch 20 is 1.890; acc is 1.0\n",
      "Schatten norm at epoch 40 is 1.891; acc is 1.0\n",
      "Schatten norm at epoch 60 is 1.892; acc is 1.0\n",
      "Schatten norm at epoch 80 is 1.893; acc is 1.0\n",
      "Schatten norm at epoch 100 is 1.894; acc is 1.0\n",
      "Schatten norm at epoch 120 is 1.895; acc is 1.0\n",
      "Schatten norm at epoch 140 is 1.894; acc is 1.0\n",
      "Schatten norm at epoch 160 is 1.895; acc is 1.0\n",
      "Schatten norm at epoch 180 is 1.896; acc is 1.0\n",
      "Schatten norm at epoch 200 is 1.896; acc is 1.0\n",
      "Schatten norm at epoch 220 is 1.898; acc is 1.0\n",
      "Schatten norm at epoch 240 is 1.899; acc is 1.0\n",
      "Schatten norm at epoch 260 is 1.899; acc is 1.0\n",
      "Schatten norm at epoch 280 is 1.899; acc is 1.0\n",
      "Schatten norm at epoch 300 is 1.897; acc is 1.0\n",
      "Schatten norm at epoch 320 is 1.897; acc is 1.0\n",
      "Schatten norm at epoch 340 is 1.898; acc is 1.0\n",
      "Schatten norm at epoch 360 is 1.900; acc is 1.0\n",
      "Schatten norm at epoch 380 is 1.899; acc is 1.0\n",
      "CPU times: user 4min 35s, sys: 9min 37s, total: 14min 13s\n",
      "Wall time: 1min 35s\n"
     ]
    }
   ],
   "source": [
    "%%time\n",
    "results_cnn = []\n",
    "for run_itr in range(N):\n",
    "    net = CNN()\n",
    "    optimizer = optim.SGD(net.parameters(), lr=init_lr)\n",
    "    loss = torch.Tensor([1.])\n",
    "    acc = torch.Tensor([0.])    \n",
    "    for epoch in range(epochs):\n",
    "        if loss.isnan().item():\n",
    "            print('Fail')\n",
    "            break\n",
    "#         itr = tqdm(enumerate(dataset[0:num_batches]))\n",
    "        itr = enumerate(dataset[0:num_batches])\n",
    "        if epoch == 100:\n",
    "            for g in optimizer.param_groups:\n",
    "                g['lr'] *= 1.5\n",
    "        for i, batch in itr:\n",
    "            x, y = batch\n",
    "            if epoch % 20 == 0 and i == 0:\n",
    "                sch_norm = eval_schatten_norm(net, x)\n",
    "                print(f'Schatten norm at epoch {epoch} is {sch_norm:.3f}; acc is {acc.item()}')\n",
    "                results_cnn.append([run_itr, epoch, sch_norm.item(), loss.item()])\n",
    "\n",
    "            optimizer.zero_grad()\n",
    "            interm, preds = net(x)\n",
    "            loss = criterion(preds, y)\n",
    "            loss.backward()\n",
    "            net.s2conv.kernel.grad = torch.zeros_like(net.s2conv.kernel.grad)\n",
    "            net.s2conv.bias.grad = torch.zeros_like(net.s2conv.bias.grad)\n",
    "            optimizer.step()\n",
    "            acc = torch.sum((preds[:, 0] < preds[:, 1]) == y) / len(y)\n",
    "#             acc = torch.sum(torch.sign(preds - 1.) == y) / len(y)\n",
    "#             itr.set_description(f'loss: {loss.item():.4f}, acc: {acc.item():.3f}')"
   ]
  },
  {
   "cell_type": "code",
   "execution_count": 41,
   "id": "ead6574d-42f4-4fcd-8138-1fd3b36cb800",
   "metadata": {},
   "outputs": [],
   "source": [
    "dfs_cnn = pd.DataFrame(results_cnn, columns=['N', 'epoch', 'schatten norm', 'loss'])"
   ]
  },
  {
   "cell_type": "code",
   "execution_count": 42,
   "id": "b4b072b1-2232-4cd2-a52f-a966a30e2e72",
   "metadata": {},
   "outputs": [],
   "source": [
    "dfs_cnn.to_csv('cnn_e2.csv', index=False)"
   ]
  },
  {
   "cell_type": "code",
   "execution_count": 19,
   "id": "c7b1d279-03aa-4c52-a832-93baa8185992",
   "metadata": {},
   "outputs": [],
   "source": [
    "dfs_cnn = pd.read_csv('cnn_e2.csv') #('data/spherical_results/cnn_e2.csv')"
   ]
  },
  {
   "cell_type": "markdown",
   "id": "162d4890-69a6-4024-b55b-0bd3867ee2d1",
   "metadata": {},
   "source": [
    "# Plots"
   ]
  },
  {
   "cell_type": "code",
   "execution_count": 20,
   "id": "3d71a502-e61c-4ae1-bf9c-3870646a9747",
   "metadata": {},
   "outputs": [],
   "source": [
    "scaling=1.8\n",
    "color_palette = sns.color_palette('colorblind', 3)"
   ]
  },
  {
   "cell_type": "code",
   "execution_count": 29,
   "id": "e6d18e90-39f7-4ab2-9758-1a1c3470e075",
   "metadata": {},
   "outputs": [
    {
     "name": "stderr",
     "output_type": "stream",
     "text": [
      "/tmp/ipykernel_84145/1004953689.py:2: MatplotlibDeprecationWarning: Support for setting an rcParam that expects a str value to a non-str value is deprecated since 3.5 and support will be removed two minor releases later.\n",
      "  mpl.rcParams['text.latex.preamble'] = [r'\\usepackage{amsmath}']\n"
     ]
    },
    {
     "data": {
      "image/png": "[encoded data removed]",
      "text/plain": [
       "<Figure size 349.272x215.914 with 1 Axes>"
      ]
     },
     "metadata": {},
     "output_type": "display_data"
    }
   ],
   "source": [
    "mpl.rcParams['text.usetex'] = False\n",
    "mpl.rcParams['text.latex.preamble'] = [r'\\usepackage{amsmath}']\n",
    "\n",
    "plt.figure(figsize=(scaling * 2.695, scaling * 1.666))\n",
    "sns.lineplot(data=dfs_scnn, x=\"epoch\", y=\"schatten norm\", label='Spherical CNN',\n",
    "             color=color_palette[1])\n",
    "sns.lineplot(data=dfs_cnn, x=\"epoch\", y=\"schatten norm\", label='CNN',\n",
    "             color=color_palette[0])\n",
    "sns.lineplot(data=dfs_fcnet, x=\"epoch\", y=\"schatten norm\", label='FC',\n",
    "             color=color_palette[2])\n",
    "# plt.ylabel(r\"$\\displaystyle\\|\\widehat{\\boldsymbol{\\beta}}\\|^{(S)}_{2/L}$\")\n",
    "plt.legend()\n",
    "plt.savefig('spherical_cnn_fourier_norm.pdf')\n",
    "plt.show()"
   ]
  },
  {
   "cell_type": "code",
   "execution_count": 28,
   "id": "4d0af74c-b965-48e9-a186-4ed2d53a21ac",
   "metadata": {},
   "outputs": [
    {
     "data": {
      "image/png": "[encoded data removed]",
      "text/plain": [
       "<Figure size 349.272x215.914 with 1 Axes>"
      ]
     },
     "metadata": {},
     "output_type": "display_data"
    }
   ],
   "source": [
    "plt.figure(figsize=(scaling * 2.695, scaling * 1.666))\n",
    "sns.lineplot(data=dfs_scnn, x=\"epoch\", y=\"loss\", label='Spherical CNN',\n",
    "             color=color_palette[1])\n",
    "sns.lineplot(data=dfs_cnn[dfs_cnn['epoch'] < 100], x=\"epoch\", y=\"loss\", label='CNN',\n",
    "             color=color_palette[0])\n",
    "sns.lineplot(data=dfs_fcnet[dfs_fcnet['epoch'] < 100], x=\"epoch\", y=\"loss\", label='FC',\n",
    "             color=color_palette[2])\n",
    "plt.ylim(0, 2)\n",
    "plt.legend();\n",
    "plt.savefig('spherical_cnn_loss.pdf')\n",
    "plt.show()"
   ]
  }
 ],
 "metadata": {
  "kernelspec": {
   "display_name": "Python 3 (ipykernel)",
   "language": "python",
   "name": "python3"
  },
  "language_info": {
   "codemirror_mode": {
    "name": "ipython",
    "version": 3
   },
   "file_extension": ".py",
   "mimetype": "text/x-python",
   "name": "python",
   "nbconvert_exporter": "python",
   "pygments_lexer": "ipython3",
   "version": "3.9.10"
  }
 },
 "nbformat": 4,
 "nbformat_minor": 5
}
